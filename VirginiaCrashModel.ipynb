{
  "nbformat": 4,
  "nbformat_minor": 0,
  "metadata": {
    "colab": {
      "name": "VirginiaCrashModel.ipynb",
      "provenance": [],
      "collapsed_sections": []
    },
    "kernelspec": {
      "name": "python3",
      "display_name": "Python 3"
    }
  },
  "cells": [
    {
      "cell_type": "markdown",
      "metadata": {
        "id": "epw3DM5d5R5W",
        "colab_type": "text"
      },
      "source": [
        "#CS 4774 ML Project\n",
        "Virginia Crash data analysis"
      ]
    },
    {
      "cell_type": "markdown",
      "metadata": {
        "id": "xNDN3Hsn5hCc",
        "colab_type": "text"
      },
      "source": [
        "In order to get the running on your instance of google colab, mount you drive that contains the dataset. Then, do the following:\n",
        "1.   Finish mounting the drive by clicking the link and pasting the authorization code.\n",
        "2.   If you need to edit the root path to the shared google drive folder, edit it. (Need to click \"Add to Drive\" in \"Shared with me\" if you haven't)\n",
        "3.   Run your code block to get the dataset downloaded.\n",
        "\n"
      ]
    },
    {
      "cell_type": "markdown",
      "metadata": {
        "id": "6A62IyhJnVvK",
        "colab_type": "text"
      },
      "source": [
        "# 1. Get Data"
      ]
    },
    {
      "cell_type": "code",
      "metadata": {
        "id": "I1ql3LCjQKak",
        "colab_type": "code",
        "colab": {}
      },
      "source": [
        "# IMPORTS\n",
        "import pandas as pd\n",
        "from google.colab import drive\n",
        "from sklearn.impute import SimpleImputer\n",
        "from sklearn.pipeline import Pipeline\n",
        "from sklearn.preprocessing import StandardScaler\n",
        "from sklearn.compose import ColumnTransformer\n",
        "from sklearn.preprocessing import OneHotEncoder\n",
        "from sklearn.ensemble import RandomForestClassifier\n",
        "from sklearn.model_selection import train_test_split\n",
        "from sklearn import preprocessing\n",
        "from sklearn.metrics import precision_score, recall_score, accuracy_score\n",
        "from sklearn.model_selection import StratifiedShuffleSplit\n",
        "from sklearn.model_selection import RandomizedSearchCV\n",
        "from sklearn.neighbors import KNeighborsClassifier\n",
        "\n",
        "\n"
      ],
      "execution_count": null,
      "outputs": []
    },
    {
      "cell_type": "code",
      "metadata": {
        "id": "PFedAfNL41Fo",
        "colab_type": "code",
        "colab": {
          "base_uri": "https://localhost:8080/",
          "height": 122
        },
        "outputId": "395bec5e-ecad-4df2-dfea-550fe48390b0"
      },
      "source": [
        "drive.mount('/content/gdrive')"
      ],
      "execution_count": null,
      "outputs": [
        {
          "output_type": "stream",
          "text": [
            "Go to this URL in a browser: https://accounts.google.com/o/oauth2/auth?client_id=947318989803-6bn6qk8qdgf4n4g3pfee6491hc0brc4i.apps.googleusercontent.com&redirect_uri=urn%3aietf%3awg%3aoauth%3a2.0%3aoob&response_type=code&scope=email%20https%3a%2f%2fwww.googleapis.com%2fauth%2fdocs.test%20https%3a%2f%2fwww.googleapis.com%2fauth%2fdrive%20https%3a%2f%2fwww.googleapis.com%2fauth%2fdrive.photos.readonly%20https%3a%2f%2fwww.googleapis.com%2fauth%2fpeopleapi.readonly\n",
            "\n",
            "Enter your authorization code:\n",
            "··········\n",
            "Mounted at /content/gdrive\n"
          ],
          "name": "stdout"
        }
      ]
    },
    {
      "cell_type": "code",
      "metadata": {
        "id": "A1N6iF2IEe4c",
        "colab_type": "code",
        "colab": {
          "base_uri": "https://localhost:8080/",
          "height": 70
        },
        "outputId": "d2356047-61ce-41c2-c3a4-0ba22951209a"
      },
      "source": [
        "#####################################################\n",
        "# for Marina\n",
        "#####################################################\n",
        "root_path = \"gdrive/My Drive/ML Project/\"\n",
        "dataset = pd.read_csv(root_path + \"Virginia_Crashes.csv\")"
      ],
      "execution_count": null,
      "outputs": [
        {
          "output_type": "stream",
          "text": [
            "/usr/local/lib/python3.6/dist-packages/IPython/core/interactiveshell.py:2718: DtypeWarning: Columns (41,42,43,45,48,49) have mixed types.Specify dtype option on import or set low_memory=False.\n",
            "  interactivity=interactivity, compiler=compiler, result=result)\n"
          ],
          "name": "stderr"
        }
      ]
    },
    {
      "cell_type": "code",
      "metadata": {
        "id": "EsYmQf1BEiwl",
        "colab_type": "code",
        "colab": {
          "base_uri": "https://localhost:8080/",
          "height": 51
        },
        "outputId": "5a343b33-82a5-4b94-f0d0-b4bd24b0f852"
      },
      "source": [
        "#####################################################\n",
        "# for Thrishna\n",
        "#####################################################\n",
        "root_path = \"gdrive/My Drive/ML Project/\"\n",
        "dataset = pd.read_csv(root_path + \"Virginia_Crashes.csv\")"
      ],
      "execution_count": null,
      "outputs": [
        {
          "output_type": "stream",
          "text": [
            "/usr/local/lib/python3.6/dist-packages/IPython/core/interactiveshell.py:2718: DtypeWarning: Columns (41,42,43,45,48,49) have mixed types.Specify dtype option on import or set low_memory=False.\n",
            "  interactivity=interactivity, compiler=compiler, result=result)\n"
          ],
          "name": "stderr"
        }
      ]
    },
    {
      "cell_type": "code",
      "metadata": {
        "id": "Zkp9gb19BFWl",
        "colab_type": "code",
        "colab": {
          "base_uri": "https://localhost:8080/",
          "height": 72
        },
        "outputId": "582d9ebf-4832-41fb-f910-a7e47c4c37d4"
      },
      "source": [
        "#####################################################\n",
        "# for charles\n",
        "#####################################################\n",
        "root_path = \"gdrive/My Drive/_spring2020/ML Project/\"\n",
        "dataset = pd.read_csv(root_path + \"Virginia_Crashes.csv\")"
      ],
      "execution_count": null,
      "outputs": [
        {
          "output_type": "stream",
          "text": [
            "/usr/local/lib/python3.6/dist-packages/IPython/core/interactiveshell.py:2718: DtypeWarning: Columns (41,42,43,45,48,49) have mixed types.Specify dtype option on import or set low_memory=False.\n",
            "  interactivity=interactivity, compiler=compiler, result=result)\n"
          ],
          "name": "stderr"
        }
      ]
    },
    {
      "cell_type": "markdown",
      "metadata": {
        "id": "rKcUwBSGneJQ",
        "colab_type": "text"
      },
      "source": [
        "# 2. Data Discovery"
      ]
    },
    {
      "cell_type": "code",
      "metadata": {
        "id": "JNF0FdbNC3CP",
        "colab_type": "code",
        "colab": {
          "base_uri": "https://localhost:8080/",
          "height": 906
        },
        "outputId": "9cbf46c2-51a2-4a66-b131-ee2aa2aa1ac0"
      },
      "source": [
        "# run head() to make sure the dataset is downloaded\n",
        "dataset.head(10)"
      ],
      "execution_count": null,
      "outputs": [
        {
          "output_type": "execute_result",
          "data": {
            "text/html": [
              "<div>\n",
              "<style scoped>\n",
              "    .dataframe tbody tr th:only-of-type {\n",
              "        vertical-align: middle;\n",
              "    }\n",
              "\n",
              "    .dataframe tbody tr th {\n",
              "        vertical-align: top;\n",
              "    }\n",
              "\n",
              "    .dataframe thead th {\n",
              "        text-align: right;\n",
              "    }\n",
              "</style>\n",
              "<table border=\"1\" class=\"dataframe\">\n",
              "  <thead>\n",
              "    <tr style=\"text-align: right;\">\n",
              "      <th></th>\n",
              "      <th>X</th>\n",
              "      <th>Y</th>\n",
              "      <th>OBJECTID</th>\n",
              "      <th>Alcohol_Notalcohol</th>\n",
              "      <th>A_Crash</th>\n",
              "      <th>A_People</th>\n",
              "      <th>Belted_Unbelted</th>\n",
              "      <th>Bike_Nonbike</th>\n",
              "      <th>B_Crash</th>\n",
              "      <th>B_People</th>\n",
              "      <th>Carspeedlimit</th>\n",
              "      <th>Collision_Type</th>\n",
              "      <th>Crash_Dt</th>\n",
              "      <th>Crash_Event_Type_Dsc</th>\n",
              "      <th>Crash_Military_Tm</th>\n",
              "      <th>Crash_Severity</th>\n",
              "      <th>Crash_Year</th>\n",
              "      <th>C_Crash</th>\n",
              "      <th>C_People</th>\n",
              "      <th>First_Harmful_Event_of_Entire_C</th>\n",
              "      <th>Physical_Juris</th>\n",
              "      <th>Ownership</th>\n",
              "      <th>LATITUDE</th>\n",
              "      <th>Plan_District</th>\n",
              "      <th>DIAGRAM</th>\n",
              "      <th>Deer_Nodeer</th>\n",
              "      <th>Distracted_Notdistracted</th>\n",
              "      <th>Document_Nbr</th>\n",
              "      <th>Driverage</th>\n",
              "      <th>Drivergen</th>\n",
              "      <th>Driverinjurytype</th>\n",
              "      <th>Driver_Action_Type_Cd</th>\n",
              "      <th>FAC</th>\n",
              "      <th>Fatal_Crashes</th>\n",
              "      <th>FUN</th>\n",
              "      <th>K_PEOPLE</th>\n",
              "      <th>LONGITUDE</th>\n",
              "      <th>Light_Condition</th>\n",
              "      <th>LOCAL_CASE_CD</th>\n",
              "      <th>Motor_Nonmotor</th>\n",
              "      <th>MPO_Name</th>\n",
              "      <th>Passage</th>\n",
              "      <th>Passgen</th>\n",
              "      <th>Passinjurytype</th>\n",
              "      <th>Pdo_Crash</th>\n",
              "      <th>Pedage</th>\n",
              "      <th>Pedestrians_Injured</th>\n",
              "      <th>Pedestrians_Killed</th>\n",
              "      <th>Pedgen</th>\n",
              "      <th>Pedinjurytype</th>\n",
              "      <th>Ped_Nonped</th>\n",
              "      <th>Rd_Type</th>\n",
              "      <th>Rns_Mp</th>\n",
              "      <th>Roadway_Surface_Cond</th>\n",
              "      <th>Route_Or_Street_Nm</th>\n",
              "      <th>Rte_Nm</th>\n",
              "      <th>Senior_Notsenior</th>\n",
              "      <th>Speed_Notspeed</th>\n",
              "      <th>SYSTEM</th>\n",
              "      <th>VDOT_District</th>\n",
              "      <th>Vehiclenumber</th>\n",
              "      <th>Vehicle_Body_Type_Cd</th>\n",
              "      <th>Weather_Condition</th>\n",
              "      <th>Work_Zone_Related</th>\n",
              "      <th>Young_Notyoung</th>\n",
              "      <th>VDOT_District_1</th>\n",
              "    </tr>\n",
              "  </thead>\n",
              "  <tbody>\n",
              "    <tr>\n",
              "      <th>0</th>\n",
              "      <td>-77.200260</td>\n",
              "      <td>36.715610</td>\n",
              "      <td>1001</td>\n",
              "      <td>Not_ALCOHOL</td>\n",
              "      <td>1</td>\n",
              "      <td>1</td>\n",
              "      <td>BELTED</td>\n",
              "      <td>Not_BIKE</td>\n",
              "      <td>0</td>\n",
              "      <td>0</td>\n",
              "      <td>35.0</td>\n",
              "      <td>2. Angle</td>\n",
              "      <td>2014-08-01T00:00:00.000Z</td>\n",
              "      <td>20. Motor Vehicle In Transport</td>\n",
              "      <td>808</td>\n",
              "      <td>A.Severe Injury</td>\n",
              "      <td>2014</td>\n",
              "      <td>0</td>\n",
              "      <td>0</td>\n",
              "      <td>20. Motor Vehicle In Transport</td>\n",
              "      <td>87.Southampton</td>\n",
              "      <td>VDOT_SEC</td>\n",
              "      <td>36.715610</td>\n",
              "      <td>Hampton Roads</td>\n",
              "      <td>http://rns/APP/Images/CrashDiagramProxy.aspx?d...</td>\n",
              "      <td>Not_ANIMAL</td>\n",
              "      <td>Not_DISTRACTED</td>\n",
              "      <td>142155080</td>\n",
              "      <td>30,58</td>\n",
              "      <td>Male,Female</td>\n",
              "      <td>PDO,A</td>\n",
              "      <td>11. Did Not Have Right-of-Way,1. No Improper A...</td>\n",
              "      <td>0.Two-way, non-divided</td>\n",
              "      <td>0</td>\n",
              "      <td>5.Rural Minor Collector</td>\n",
              "      <td>0</td>\n",
              "      <td>-77.200260</td>\n",
              "      <td>2. Daylight</td>\n",
              "      <td>2014-004304</td>\n",
              "      <td>Not_MOTORCYCLE</td>\n",
              "      <td>NaN</td>\n",
              "      <td>NaN</td>\n",
              "      <td>NaN</td>\n",
              "      <td>NaN</td>\n",
              "      <td>0</td>\n",
              "      <td>NaN</td>\n",
              "      <td>0</td>\n",
              "      <td>0</td>\n",
              "      <td>NaN</td>\n",
              "      <td>NaN</td>\n",
              "      <td>Not_PED</td>\n",
              "      <td>NOT-RD</td>\n",
              "      <td>13.128480</td>\n",
              "      <td>2. Wet</td>\n",
              "      <td>CARYS BRIDGE ROAD</td>\n",
              "      <td>R-VA087SC00653SB</td>\n",
              "      <td>Not_SENIOR</td>\n",
              "      <td>Not_SPEED</td>\n",
              "      <td>SECONDARY</td>\n",
              "      <td>5</td>\n",
              "      <td>1,2</td>\n",
              "      <td>1. Passenger car,22. Truck - Sport Utility Veh...</td>\n",
              "      <td>5. Rain</td>\n",
              "      <td>2. No</td>\n",
              "      <td>Not_YOUNG</td>\n",
              "      <td>5.Hampton Roads</td>\n",
              "    </tr>\n",
              "    <tr>\n",
              "      <th>1</th>\n",
              "      <td>-77.568560</td>\n",
              "      <td>38.527250</td>\n",
              "      <td>1002</td>\n",
              "      <td>Not_ALCOHOL</td>\n",
              "      <td>1</td>\n",
              "      <td>1</td>\n",
              "      <td>BELTED</td>\n",
              "      <td>Not_BIKE</td>\n",
              "      <td>0</td>\n",
              "      <td>1</td>\n",
              "      <td>NaN</td>\n",
              "      <td>3. Head On</td>\n",
              "      <td>2017-03-30T00:00:00.000Z</td>\n",
              "      <td>20. Motor Vehicle In Transport</td>\n",
              "      <td>1735</td>\n",
              "      <td>A.Severe Injury</td>\n",
              "      <td>2017</td>\n",
              "      <td>0</td>\n",
              "      <td>0</td>\n",
              "      <td>20. Motor Vehicle In Transport</td>\n",
              "      <td>30.Fauquier</td>\n",
              "      <td>VDOT_SEC</td>\n",
              "      <td>38.527250</td>\n",
              "      <td>Rappahannock-Rapidan</td>\n",
              "      <td>http://rns/APP/Images/CrashDiagramProxy.aspx?d...</td>\n",
              "      <td>Not_ANIMAL</td>\n",
              "      <td>Not_DISTRACTED</td>\n",
              "      <td>170905350</td>\n",
              "      <td>48,64</td>\n",
              "      <td>Female,Female</td>\n",
              "      <td>A,B</td>\n",
              "      <td>11. Did Not Have Right-of-Way,1. No Improper A...</td>\n",
              "      <td>0.Two-way, non-divided</td>\n",
              "      <td>0</td>\n",
              "      <td>6.Rural Local</td>\n",
              "      <td>0</td>\n",
              "      <td>-77.568560</td>\n",
              "      <td>2. Daylight</td>\n",
              "      <td>DIV217026883</td>\n",
              "      <td>Not_MOTORCYCLE</td>\n",
              "      <td>NaN</td>\n",
              "      <td>NaN</td>\n",
              "      <td>NaN</td>\n",
              "      <td>NaN</td>\n",
              "      <td>0</td>\n",
              "      <td>NaN</td>\n",
              "      <td>0</td>\n",
              "      <td>0</td>\n",
              "      <td>NaN</td>\n",
              "      <td>NaN</td>\n",
              "      <td>Not_PED</td>\n",
              "      <td>NOT-RD</td>\n",
              "      <td>12.378346</td>\n",
              "      <td>1. Dry</td>\n",
              "      <td>RT 610</td>\n",
              "      <td>R-VA030SC00610EB</td>\n",
              "      <td>Not_SENIOR</td>\n",
              "      <td>Not_SPEED</td>\n",
              "      <td>SECONDARY</td>\n",
              "      <td>7</td>\n",
              "      <td>1,2</td>\n",
              "      <td>1. Passenger car,22. Truck - Sport Utility Veh...</td>\n",
              "      <td>1. No Adverse Condition (Clear/Cloudy)</td>\n",
              "      <td>2. No</td>\n",
              "      <td>Not_YOUNG</td>\n",
              "      <td>7.Culpeper</td>\n",
              "    </tr>\n",
              "    <tr>\n",
              "      <th>2</th>\n",
              "      <td>-78.516050</td>\n",
              "      <td>38.273410</td>\n",
              "      <td>1003</td>\n",
              "      <td>Not_ALCOHOL</td>\n",
              "      <td>1</td>\n",
              "      <td>1</td>\n",
              "      <td>BELTED</td>\n",
              "      <td>Not_BIKE</td>\n",
              "      <td>0</td>\n",
              "      <td>1</td>\n",
              "      <td>NaN</td>\n",
              "      <td>3. Head On</td>\n",
              "      <td>2019-06-04T00:00:00.000Z</td>\n",
              "      <td>20. Motor Vehicle In Transport</td>\n",
              "      <td>825</td>\n",
              "      <td>A.Severe Injury</td>\n",
              "      <td>2019</td>\n",
              "      <td>0</td>\n",
              "      <td>0</td>\n",
              "      <td>20. Motor Vehicle In Transport</td>\n",
              "      <td>39.Greene</td>\n",
              "      <td>VDOT_SEC</td>\n",
              "      <td>38.273410</td>\n",
              "      <td>Thomas Jefferson</td>\n",
              "      <td>http://rns/APP/Images/CrashDiagramProxy.aspx?d...</td>\n",
              "      <td>Not_ANIMAL</td>\n",
              "      <td>Not_DISTRACTED</td>\n",
              "      <td>191605078</td>\n",
              "      <td>36,34</td>\n",
              "      <td>Male,Female</td>\n",
              "      <td>B,A</td>\n",
              "      <td>1. No Improper Action,11. Did Not Have Right-o...</td>\n",
              "      <td>0.Two-way, non-divided</td>\n",
              "      <td>0</td>\n",
              "      <td>4.Rural Major Collector</td>\n",
              "      <td>0</td>\n",
              "      <td>-78.516050</td>\n",
              "      <td>2. Daylight</td>\n",
              "      <td>19L-22644</td>\n",
              "      <td>Not_MOTORCYCLE</td>\n",
              "      <td>NaN</td>\n",
              "      <td>NaN</td>\n",
              "      <td>NaN</td>\n",
              "      <td>NaN</td>\n",
              "      <td>0</td>\n",
              "      <td>NaN</td>\n",
              "      <td>0</td>\n",
              "      <td>0</td>\n",
              "      <td>NaN</td>\n",
              "      <td>NaN</td>\n",
              "      <td>Not_PED</td>\n",
              "      <td>NOT-RD</td>\n",
              "      <td>3.591705</td>\n",
              "      <td>1. Dry</td>\n",
              "      <td>DYKE RD  RT 810</td>\n",
              "      <td>R-VA039SC00810WB</td>\n",
              "      <td>Not_SENIOR</td>\n",
              "      <td>Not_SPEED</td>\n",
              "      <td>SECONDARY</td>\n",
              "      <td>7</td>\n",
              "      <td>1,2</td>\n",
              "      <td>1. Passenger car,1. Passenger car</td>\n",
              "      <td>1. No Adverse Condition (Clear/Cloudy)</td>\n",
              "      <td>2. No</td>\n",
              "      <td>Not_YOUNG</td>\n",
              "      <td>7.Culpeper</td>\n",
              "    </tr>\n",
              "    <tr>\n",
              "      <th>3</th>\n",
              "      <td>-77.956010</td>\n",
              "      <td>38.317450</td>\n",
              "      <td>1004</td>\n",
              "      <td>Not_ALCOHOL</td>\n",
              "      <td>1</td>\n",
              "      <td>1</td>\n",
              "      <td>BELTED</td>\n",
              "      <td>Not_BIKE</td>\n",
              "      <td>0</td>\n",
              "      <td>2</td>\n",
              "      <td>NaN</td>\n",
              "      <td>3. Head On</td>\n",
              "      <td>2015-07-05T00:00:00.000Z</td>\n",
              "      <td>20. Motor Vehicle In Transport</td>\n",
              "      <td>2230</td>\n",
              "      <td>A.Severe Injury</td>\n",
              "      <td>2015</td>\n",
              "      <td>0</td>\n",
              "      <td>0</td>\n",
              "      <td>20. Motor Vehicle In Transport</td>\n",
              "      <td>68.Orange</td>\n",
              "      <td>VDOT_SEC</td>\n",
              "      <td>38.317450</td>\n",
              "      <td>Rappahannock-Rapidan</td>\n",
              "      <td>http://rns/APP/Images/CrashDiagramProxy.aspx?d...</td>\n",
              "      <td>Not_ANIMAL</td>\n",
              "      <td>Not_DISTRACTED</td>\n",
              "      <td>151875255</td>\n",
              "      <td>52,24</td>\n",
              "      <td>Female,Female</td>\n",
              "      <td>PDO,B</td>\n",
              "      <td>11. Did Not Have Right-of-Way,1. No Improper A...</td>\n",
              "      <td>0.Two-way, non-divided</td>\n",
              "      <td>0</td>\n",
              "      <td>4.Rural Major Collector</td>\n",
              "      <td>0</td>\n",
              "      <td>-77.956010</td>\n",
              "      <td>5. Darkness - Road Not Lighted</td>\n",
              "      <td>DIV215071204</td>\n",
              "      <td>Not_MOTORCYCLE</td>\n",
              "      <td>NaN</td>\n",
              "      <td>21,4</td>\n",
              "      <td>Male,Male</td>\n",
              "      <td>A,B</td>\n",
              "      <td>0</td>\n",
              "      <td>NaN</td>\n",
              "      <td>0</td>\n",
              "      <td>0</td>\n",
              "      <td>NaN</td>\n",
              "      <td>NaN</td>\n",
              "      <td>Not_PED</td>\n",
              "      <td>NOT-RD</td>\n",
              "      <td>0.590000</td>\n",
              "      <td>2. Wet</td>\n",
              "      <td>RT522</td>\n",
              "      <td>R-VA068SC00621WB</td>\n",
              "      <td>Not_SENIOR</td>\n",
              "      <td>Not_SPEED</td>\n",
              "      <td>SECONDARY</td>\n",
              "      <td>7</td>\n",
              "      <td>1,2</td>\n",
              "      <td>2. Truck - Pick-up/Passenger Truck,1. Passenge...</td>\n",
              "      <td>5. Rain</td>\n",
              "      <td>2. No</td>\n",
              "      <td>Not_YOUNG</td>\n",
              "      <td>7.Culpeper</td>\n",
              "    </tr>\n",
              "    <tr>\n",
              "      <th>4</th>\n",
              "      <td>-77.523967</td>\n",
              "      <td>38.220247</td>\n",
              "      <td>1005</td>\n",
              "      <td>Not_ALCOHOL</td>\n",
              "      <td>1</td>\n",
              "      <td>3</td>\n",
              "      <td>BELTED</td>\n",
              "      <td>Not_BIKE</td>\n",
              "      <td>0</td>\n",
              "      <td>0</td>\n",
              "      <td>NaN</td>\n",
              "      <td>2. Angle</td>\n",
              "      <td>2013-03-22T00:00:00.000Z</td>\n",
              "      <td>20. Motor Vehicle In Transport</td>\n",
              "      <td>1759</td>\n",
              "      <td>A.Severe Injury</td>\n",
              "      <td>2013</td>\n",
              "      <td>0</td>\n",
              "      <td>1</td>\n",
              "      <td>20. Motor Vehicle In Transport</td>\n",
              "      <td>88.Spotsylvania</td>\n",
              "      <td>VDOT_SEC</td>\n",
              "      <td>38.220247</td>\n",
              "      <td>George Washington Regional</td>\n",
              "      <td>http://rns/APP/Images/CrashDiagramProxy.aspx?d...</td>\n",
              "      <td>Not_ANIMAL</td>\n",
              "      <td>Not_DISTRACTED</td>\n",
              "      <td>130825080</td>\n",
              "      <td>35,64</td>\n",
              "      <td>Female,Female</td>\n",
              "      <td>A,A</td>\n",
              "      <td>11. Did Not Have Right-of-Way,1. No Improper A...</td>\n",
              "      <td>0.Two-way, non-divided</td>\n",
              "      <td>0</td>\n",
              "      <td>J.Urban Local</td>\n",
              "      <td>0</td>\n",
              "      <td>-77.523967</td>\n",
              "      <td>2. Daylight</td>\n",
              "      <td>13-31992</td>\n",
              "      <td>Not_MOTORCYCLE</td>\n",
              "      <td>Fredericksburg Area Metropolitan Planning Orga...</td>\n",
              "      <td>23,47</td>\n",
              "      <td>Female,Male</td>\n",
              "      <td>A,C</td>\n",
              "      <td>0</td>\n",
              "      <td>NaN</td>\n",
              "      <td>0</td>\n",
              "      <td>0</td>\n",
              "      <td>NaN</td>\n",
              "      <td>NaN</td>\n",
              "      <td>Not_PED</td>\n",
              "      <td>NOT-RD</td>\n",
              "      <td>0.011707</td>\n",
              "      <td>1. Dry</td>\n",
              "      <td>ROUTE 628 (SPOTSYLVANIA PARKWAY)</td>\n",
              "      <td>R-VA088SC02256EB</td>\n",
              "      <td>Not_SENIOR</td>\n",
              "      <td>Not_SPEED</td>\n",
              "      <td>SECONDARY</td>\n",
              "      <td>6</td>\n",
              "      <td>1,2</td>\n",
              "      <td>3. Van,1. Passenger car</td>\n",
              "      <td>1. No Adverse Condition (Clear/Cloudy)</td>\n",
              "      <td>2. No</td>\n",
              "      <td>Not_YOUNG</td>\n",
              "      <td>6.Fredericksburg</td>\n",
              "    </tr>\n",
              "    <tr>\n",
              "      <th>5</th>\n",
              "      <td>-78.251330</td>\n",
              "      <td>39.273440</td>\n",
              "      <td>1006</td>\n",
              "      <td>Not_ALCOHOL</td>\n",
              "      <td>1</td>\n",
              "      <td>2</td>\n",
              "      <td>BELTED</td>\n",
              "      <td>Not_BIKE</td>\n",
              "      <td>0</td>\n",
              "      <td>1</td>\n",
              "      <td>45.0</td>\n",
              "      <td>2. Angle</td>\n",
              "      <td>2016-06-20T00:00:00.000Z</td>\n",
              "      <td>20. Motor Vehicle In Transport</td>\n",
              "      <td>1450</td>\n",
              "      <td>A.Severe Injury</td>\n",
              "      <td>2016</td>\n",
              "      <td>0</td>\n",
              "      <td>0</td>\n",
              "      <td>20. Motor Vehicle In Transport</td>\n",
              "      <td>34.Frederick</td>\n",
              "      <td>VDOT_SEC</td>\n",
              "      <td>39.273440</td>\n",
              "      <td>Northern Shenandoah Valley</td>\n",
              "      <td>http://rns/APP/Images/CrashDiagramProxy.aspx?d...</td>\n",
              "      <td>Not_ANIMAL</td>\n",
              "      <td>Not_DISTRACTED</td>\n",
              "      <td>161725345</td>\n",
              "      <td>58,23</td>\n",
              "      <td>Male,Male</td>\n",
              "      <td>A,B</td>\n",
              "      <td>11. Did Not Have Right-of-Way,1. No Improper A...</td>\n",
              "      <td>0.Two-way, non-divided</td>\n",
              "      <td>0</td>\n",
              "      <td>6.Rural Local</td>\n",
              "      <td>0</td>\n",
              "      <td>-78.251330</td>\n",
              "      <td>2. Daylight</td>\n",
              "      <td>DIV216064588</td>\n",
              "      <td>Not_MOTORCYCLE</td>\n",
              "      <td>NaN</td>\n",
              "      <td>66</td>\n",
              "      <td>Male</td>\n",
              "      <td>A</td>\n",
              "      <td>0</td>\n",
              "      <td>NaN</td>\n",
              "      <td>0</td>\n",
              "      <td>0</td>\n",
              "      <td>NaN</td>\n",
              "      <td>NaN</td>\n",
              "      <td>Not_PED</td>\n",
              "      <td>NOT-RD</td>\n",
              "      <td>0.012019</td>\n",
              "      <td>1. Dry</td>\n",
              "      <td>ROUTE 522</td>\n",
              "      <td>R-VA034SC00684SB</td>\n",
              "      <td>Not_SENIOR</td>\n",
              "      <td>Not_SPEED</td>\n",
              "      <td>SECONDARY</td>\n",
              "      <td>8</td>\n",
              "      <td>1,2</td>\n",
              "      <td>22. Truck - Sport Utility Vehicle (SUV),2. Tru...</td>\n",
              "      <td>1. No Adverse Condition (Clear/Cloudy)</td>\n",
              "      <td>2. No</td>\n",
              "      <td>Not_YOUNG</td>\n",
              "      <td>8.Staunton</td>\n",
              "    </tr>\n",
              "    <tr>\n",
              "      <th>6</th>\n",
              "      <td>-78.921430</td>\n",
              "      <td>36.650180</td>\n",
              "      <td>1007</td>\n",
              "      <td>Not_ALCOHOL</td>\n",
              "      <td>1</td>\n",
              "      <td>1</td>\n",
              "      <td>BELTED</td>\n",
              "      <td>Not_BIKE</td>\n",
              "      <td>0</td>\n",
              "      <td>1</td>\n",
              "      <td>NaN</td>\n",
              "      <td>5. Sideswipe - Opposite Direction</td>\n",
              "      <td>2014-06-05T00:00:00.000Z</td>\n",
              "      <td>20. Motor Vehicle In Transport</td>\n",
              "      <td>1620</td>\n",
              "      <td>A.Severe Injury</td>\n",
              "      <td>2014</td>\n",
              "      <td>0</td>\n",
              "      <td>1</td>\n",
              "      <td>20. Motor Vehicle In Transport</td>\n",
              "      <td>41.Halifax</td>\n",
              "      <td>VDOT_SEC</td>\n",
              "      <td>36.650180</td>\n",
              "      <td>Southside</td>\n",
              "      <td>http://rns/APP/Images/CrashDiagramProxy.aspx?d...</td>\n",
              "      <td>Not_ANIMAL</td>\n",
              "      <td>Not_DISTRACTED</td>\n",
              "      <td>141565244</td>\n",
              "      <td>43,64</td>\n",
              "      <td>Female,Male</td>\n",
              "      <td>A,C</td>\n",
              "      <td>40. Fail to Maintain Proper Control,1. No Impr...</td>\n",
              "      <td>0.Two-way, non-divided</td>\n",
              "      <td>0</td>\n",
              "      <td>4.Rural Major Collector</td>\n",
              "      <td>0</td>\n",
              "      <td>-78.921430</td>\n",
              "      <td>2. Daylight</td>\n",
              "      <td>DIV314047298</td>\n",
              "      <td>Not_MOTORCYCLE</td>\n",
              "      <td>NaN</td>\n",
              "      <td>57</td>\n",
              "      <td>Female</td>\n",
              "      <td>B</td>\n",
              "      <td>0</td>\n",
              "      <td>NaN</td>\n",
              "      <td>0</td>\n",
              "      <td>0</td>\n",
              "      <td>NaN</td>\n",
              "      <td>NaN</td>\n",
              "      <td>Not_PED</td>\n",
              "      <td>RD-UNKNOWN</td>\n",
              "      <td>2.998818</td>\n",
              "      <td>1. Dry</td>\n",
              "      <td>OLD CLUSTER SPRINGS ROAD</td>\n",
              "      <td>R-VA041SC00704SB</td>\n",
              "      <td>Not_SENIOR</td>\n",
              "      <td>Not_SPEED</td>\n",
              "      <td>SECONDARY</td>\n",
              "      <td>3</td>\n",
              "      <td>1,2</td>\n",
              "      <td>1. Passenger car,1. Passenger car</td>\n",
              "      <td>1. No Adverse Condition (Clear/Cloudy)</td>\n",
              "      <td>2. No</td>\n",
              "      <td>Not_YOUNG</td>\n",
              "      <td>3.Lynchburg</td>\n",
              "    </tr>\n",
              "    <tr>\n",
              "      <th>7</th>\n",
              "      <td>-79.661560</td>\n",
              "      <td>37.613570</td>\n",
              "      <td>1008</td>\n",
              "      <td>Not_ALCOHOL</td>\n",
              "      <td>1</td>\n",
              "      <td>2</td>\n",
              "      <td>BELTED</td>\n",
              "      <td>Not_BIKE</td>\n",
              "      <td>0</td>\n",
              "      <td>0</td>\n",
              "      <td>NaN</td>\n",
              "      <td>5. Sideswipe - Opposite Direction</td>\n",
              "      <td>2019-07-05T00:00:00.000Z</td>\n",
              "      <td>20. Motor Vehicle In Transport</td>\n",
              "      <td>1545</td>\n",
              "      <td>A.Severe Injury</td>\n",
              "      <td>2019</td>\n",
              "      <td>0</td>\n",
              "      <td>0</td>\n",
              "      <td>20. Motor Vehicle In Transport</td>\n",
              "      <td>11.Botetourt</td>\n",
              "      <td>VDOT_SEC</td>\n",
              "      <td>37.613570</td>\n",
              "      <td>Roanoke Valley-Alleghany</td>\n",
              "      <td>http://rns/APP/Images/CrashDiagramProxy.aspx?d...</td>\n",
              "      <td>Not_ANIMAL</td>\n",
              "      <td>Not_DISTRACTED</td>\n",
              "      <td>191865197</td>\n",
              "      <td>52,51</td>\n",
              "      <td>Female,Male</td>\n",
              "      <td>PDO,A</td>\n",
              "      <td>40. Fail to Maintain Proper Control,1. No Impr...</td>\n",
              "      <td>0.Two-way, non-divided</td>\n",
              "      <td>0</td>\n",
              "      <td>6.Rural Local</td>\n",
              "      <td>0</td>\n",
              "      <td>-79.661560</td>\n",
              "      <td>2. Daylight</td>\n",
              "      <td>DIV619059574</td>\n",
              "      <td>Not_MOTORCYCLE</td>\n",
              "      <td>NaN</td>\n",
              "      <td>51</td>\n",
              "      <td>Female</td>\n",
              "      <td>A</td>\n",
              "      <td>0</td>\n",
              "      <td>NaN</td>\n",
              "      <td>0</td>\n",
              "      <td>0</td>\n",
              "      <td>NaN</td>\n",
              "      <td>NaN</td>\n",
              "      <td>Not_PED</td>\n",
              "      <td>RD-UNKNOWN</td>\n",
              "      <td>7.502135</td>\n",
              "      <td>1. Dry</td>\n",
              "      <td>2300 BUFFALO ROAD</td>\n",
              "      <td>R-VA011SC00622NB</td>\n",
              "      <td>Not_SENIOR</td>\n",
              "      <td>Not_SPEED</td>\n",
              "      <td>SECONDARY</td>\n",
              "      <td>2</td>\n",
              "      <td>1,2</td>\n",
              "      <td>1. Passenger car,22. Truck - Sport Utility Veh...</td>\n",
              "      <td>1. No Adverse Condition (Clear/Cloudy)</td>\n",
              "      <td>2. No</td>\n",
              "      <td>Not_YOUNG</td>\n",
              "      <td>2.Salem</td>\n",
              "    </tr>\n",
              "    <tr>\n",
              "      <th>8</th>\n",
              "      <td>-82.307640</td>\n",
              "      <td>37.130890</td>\n",
              "      <td>1009</td>\n",
              "      <td>Not_ALCOHOL</td>\n",
              "      <td>1</td>\n",
              "      <td>2</td>\n",
              "      <td>BELTED</td>\n",
              "      <td>Not_BIKE</td>\n",
              "      <td>0</td>\n",
              "      <td>0</td>\n",
              "      <td>40.0</td>\n",
              "      <td>5. Sideswipe - Opposite Direction</td>\n",
              "      <td>2014-09-24T00:00:00.000Z</td>\n",
              "      <td>36. Cross Centerline</td>\n",
              "      <td>1545</td>\n",
              "      <td>A.Severe Injury</td>\n",
              "      <td>2014</td>\n",
              "      <td>0</td>\n",
              "      <td>0</td>\n",
              "      <td>36. Cross Centerline</td>\n",
              "      <td>25.Dickenson</td>\n",
              "      <td>VDOT_SEC</td>\n",
              "      <td>37.130890</td>\n",
              "      <td>Cumberland Plateau</td>\n",
              "      <td>http://rns/APP/Images/CrashDiagramProxy.aspx?d...</td>\n",
              "      <td>Not_ANIMAL</td>\n",
              "      <td>Not_DISTRACTED</td>\n",
              "      <td>142725403</td>\n",
              "      <td>51,46</td>\n",
              "      <td>Male,Female</td>\n",
              "      <td>PDO,A</td>\n",
              "      <td>10. Wrong Side Of Road - Not Overtaking,1. No ...</td>\n",
              "      <td>0.Two-way, non-divided</td>\n",
              "      <td>0</td>\n",
              "      <td>6.Rural Local</td>\n",
              "      <td>0</td>\n",
              "      <td>-82.307640</td>\n",
              "      <td>2. Daylight</td>\n",
              "      <td>DIV414112724</td>\n",
              "      <td>Not_MOTORCYCLE</td>\n",
              "      <td>NaN</td>\n",
              "      <td>27</td>\n",
              "      <td>Female</td>\n",
              "      <td>A</td>\n",
              "      <td>0</td>\n",
              "      <td>NaN</td>\n",
              "      <td>0</td>\n",
              "      <td>0</td>\n",
              "      <td>NaN</td>\n",
              "      <td>NaN</td>\n",
              "      <td>Not_PED</td>\n",
              "      <td>RD-UNKNOWN</td>\n",
              "      <td>4.276621</td>\n",
              "      <td>1. Dry</td>\n",
              "      <td>LICK CREEK RD</td>\n",
              "      <td>R-VA025SC00670SB</td>\n",
              "      <td>Not_SENIOR</td>\n",
              "      <td>Not_SPEED</td>\n",
              "      <td>SECONDARY</td>\n",
              "      <td>1</td>\n",
              "      <td>1,2</td>\n",
              "      <td>2. Truck - Pick-up/Passenger Truck,2. Truck - ...</td>\n",
              "      <td>1. No Adverse Condition (Clear/Cloudy)</td>\n",
              "      <td>2. No</td>\n",
              "      <td>Not_YOUNG</td>\n",
              "      <td>1.Bristol</td>\n",
              "    </tr>\n",
              "    <tr>\n",
              "      <th>9</th>\n",
              "      <td>-80.650610</td>\n",
              "      <td>37.167910</td>\n",
              "      <td>1010</td>\n",
              "      <td>Not_ALCOHOL</td>\n",
              "      <td>1</td>\n",
              "      <td>1</td>\n",
              "      <td>BELTED</td>\n",
              "      <td>Not_BIKE</td>\n",
              "      <td>0</td>\n",
              "      <td>0</td>\n",
              "      <td>NaN</td>\n",
              "      <td>2. Angle</td>\n",
              "      <td>2014-06-23T00:00:00.000Z</td>\n",
              "      <td>2. Trees</td>\n",
              "      <td>2048</td>\n",
              "      <td>A.Severe Injury</td>\n",
              "      <td>2014</td>\n",
              "      <td>0</td>\n",
              "      <td>0</td>\n",
              "      <td>2. Trees</td>\n",
              "      <td>77.Pulaski</td>\n",
              "      <td>VDOT_SEC</td>\n",
              "      <td>37.167910</td>\n",
              "      <td>New River Valley</td>\n",
              "      <td>http://rns/APP/Images/CrashDiagramProxy.aspx?d...</td>\n",
              "      <td>Not_ANIMAL</td>\n",
              "      <td>Not_DISTRACTED</td>\n",
              "      <td>141765019</td>\n",
              "      <td>50,60</td>\n",
              "      <td>Female,Male</td>\n",
              "      <td>A,PDO</td>\n",
              "      <td>40. Fail to Maintain Proper Control,1. No Impr...</td>\n",
              "      <td>0.Two-way, non-divided</td>\n",
              "      <td>0</td>\n",
              "      <td>5.Rural Minor Collector</td>\n",
              "      <td>0</td>\n",
              "      <td>-80.650610</td>\n",
              "      <td>3. Dusk</td>\n",
              "      <td>14-15188</td>\n",
              "      <td>Not_MOTORCYCLE</td>\n",
              "      <td>NaN</td>\n",
              "      <td>NaN</td>\n",
              "      <td>NaN</td>\n",
              "      <td>NaN</td>\n",
              "      <td>0</td>\n",
              "      <td>NaN</td>\n",
              "      <td>0</td>\n",
              "      <td>0</td>\n",
              "      <td>NaN</td>\n",
              "      <td>NaN</td>\n",
              "      <td>Not_PED</td>\n",
              "      <td>RD-UNKNOWN</td>\n",
              "      <td>2.836717</td>\n",
              "      <td>1. Dry</td>\n",
              "      <td>HIGHLAND ROAD</td>\n",
              "      <td>R-VA077SC00627WB</td>\n",
              "      <td>Not_SENIOR</td>\n",
              "      <td>Not_SPEED</td>\n",
              "      <td>SECONDARY</td>\n",
              "      <td>2</td>\n",
              "      <td>1,2</td>\n",
              "      <td>2. Truck - Pick-up/Passenger Truck,2. Truck - ...</td>\n",
              "      <td>1. No Adverse Condition (Clear/Cloudy)</td>\n",
              "      <td>2. No</td>\n",
              "      <td>Not_YOUNG</td>\n",
              "      <td>2.Salem</td>\n",
              "    </tr>\n",
              "  </tbody>\n",
              "</table>\n",
              "</div>"
            ],
            "text/plain": [
              "           X          Y  ...  Young_Notyoung   VDOT_District_1\n",
              "0 -77.200260  36.715610  ...       Not_YOUNG   5.Hampton Roads\n",
              "1 -77.568560  38.527250  ...       Not_YOUNG        7.Culpeper\n",
              "2 -78.516050  38.273410  ...       Not_YOUNG        7.Culpeper\n",
              "3 -77.956010  38.317450  ...       Not_YOUNG        7.Culpeper\n",
              "4 -77.523967  38.220247  ...       Not_YOUNG  6.Fredericksburg\n",
              "5 -78.251330  39.273440  ...       Not_YOUNG        8.Staunton\n",
              "6 -78.921430  36.650180  ...       Not_YOUNG       3.Lynchburg\n",
              "7 -79.661560  37.613570  ...       Not_YOUNG           2.Salem\n",
              "8 -82.307640  37.130890  ...       Not_YOUNG         1.Bristol\n",
              "9 -80.650610  37.167910  ...       Not_YOUNG           2.Salem\n",
              "\n",
              "[10 rows x 66 columns]"
            ]
          },
          "metadata": {
            "tags": []
          },
          "execution_count": 4
        }
      ]
    },
    {
      "cell_type": "code",
      "metadata": {
        "id": "QhFr4BlmSqIB",
        "colab_type": "code",
        "colab": {
          "base_uri": "https://localhost:8080/",
          "height": 119
        },
        "outputId": "1afd78ec-ffbf-4148-8ff3-8b6dd13ae057"
      },
      "source": [
        "dataset[\"Crash_Severity\"].value_counts()"
      ],
      "execution_count": null,
      "outputs": [
        {
          "output_type": "execute_result",
          "data": {
            "text/plain": [
              "PDO.Property Damage Only    562888\n",
              "B.Visible Injury            168488\n",
              "C.Nonvisible Injury          79999\n",
              "A.Severe Injury              43615\n",
              "K.Fatal Injury                4982\n",
              "Name: Crash_Severity, dtype: int64"
            ]
          },
          "metadata": {
            "tags": []
          },
          "execution_count": 5
        }
      ]
    },
    {
      "cell_type": "code",
      "metadata": {
        "id": "gmpxh4ZgFwDT",
        "colab_type": "code",
        "colab": {
          "base_uri": "https://localhost:8080/",
          "height": 317
        },
        "outputId": "ca33cbc2-13cd-4c54-e8fc-269b89718b94"
      },
      "source": [
        "dataset.describe()"
      ],
      "execution_count": null,
      "outputs": [
        {
          "output_type": "execute_result",
          "data": {
            "text/html": [
              "<div>\n",
              "<style scoped>\n",
              "    .dataframe tbody tr th:only-of-type {\n",
              "        vertical-align: middle;\n",
              "    }\n",
              "\n",
              "    .dataframe tbody tr th {\n",
              "        vertical-align: top;\n",
              "    }\n",
              "\n",
              "    .dataframe thead th {\n",
              "        text-align: right;\n",
              "    }\n",
              "</style>\n",
              "<table border=\"1\" class=\"dataframe\">\n",
              "  <thead>\n",
              "    <tr style=\"text-align: right;\">\n",
              "      <th></th>\n",
              "      <th>X</th>\n",
              "      <th>Y</th>\n",
              "      <th>OBJECTID</th>\n",
              "      <th>A_Crash</th>\n",
              "      <th>A_People</th>\n",
              "      <th>B_Crash</th>\n",
              "      <th>B_People</th>\n",
              "      <th>Carspeedlimit</th>\n",
              "      <th>Crash_Military_Tm</th>\n",
              "      <th>Crash_Year</th>\n",
              "      <th>C_Crash</th>\n",
              "      <th>C_People</th>\n",
              "      <th>LATITUDE</th>\n",
              "      <th>Document_Nbr</th>\n",
              "      <th>Fatal_Crashes</th>\n",
              "      <th>K_PEOPLE</th>\n",
              "      <th>LONGITUDE</th>\n",
              "      <th>Pdo_Crash</th>\n",
              "      <th>Pedestrians_Injured</th>\n",
              "      <th>Pedestrians_Killed</th>\n",
              "      <th>Rns_Mp</th>\n",
              "      <th>VDOT_District</th>\n",
              "    </tr>\n",
              "  </thead>\n",
              "  <tbody>\n",
              "    <tr>\n",
              "      <th>count</th>\n",
              "      <td>859931.000000</td>\n",
              "      <td>859931.000000</td>\n",
              "      <td>859972.000000</td>\n",
              "      <td>859972.000000</td>\n",
              "      <td>859972.000000</td>\n",
              "      <td>859972.000000</td>\n",
              "      <td>859972.000000</td>\n",
              "      <td>456288.000000</td>\n",
              "      <td>859972.000000</td>\n",
              "      <td>859972.000000</td>\n",
              "      <td>859972.000000</td>\n",
              "      <td>859972.000000</td>\n",
              "      <td>859931.000000</td>\n",
              "      <td>8.599720e+05</td>\n",
              "      <td>859972.000000</td>\n",
              "      <td>859972.000000</td>\n",
              "      <td>859935.000000</td>\n",
              "      <td>859972.000000</td>\n",
              "      <td>859972.000000</td>\n",
              "      <td>859972.000000</td>\n",
              "      <td>815249.000000</td>\n",
              "      <td>859972.000000</td>\n",
              "    </tr>\n",
              "    <tr>\n",
              "      <th>mean</th>\n",
              "      <td>-77.810353</td>\n",
              "      <td>37.773603</td>\n",
              "      <td>429986.500000</td>\n",
              "      <td>0.050717</td>\n",
              "      <td>0.062194</td>\n",
              "      <td>0.195923</td>\n",
              "      <td>0.274942</td>\n",
              "      <td>49.252961</td>\n",
              "      <td>1345.531659</td>\n",
              "      <td>2015.969241</td>\n",
              "      <td>0.093025</td>\n",
              "      <td>0.182854</td>\n",
              "      <td>37.773603</td>\n",
              "      <td>1.618246e+08</td>\n",
              "      <td>0.005793</td>\n",
              "      <td>0.006176</td>\n",
              "      <td>-77.810354</td>\n",
              "      <td>0.654542</td>\n",
              "      <td>0.012984</td>\n",
              "      <td>0.000822</td>\n",
              "      <td>54.780449</td>\n",
              "      <td>5.610835</td>\n",
              "    </tr>\n",
              "    <tr>\n",
              "      <th>std</th>\n",
              "      <td>1.405824</td>\n",
              "      <td>0.805128</td>\n",
              "      <td>248252.677186</td>\n",
              "      <td>0.219419</td>\n",
              "      <td>0.299137</td>\n",
              "      <td>0.396910</td>\n",
              "      <td>0.639631</td>\n",
              "      <td>11.206059</td>\n",
              "      <td>549.605006</td>\n",
              "      <td>1.957790</td>\n",
              "      <td>0.290468</td>\n",
              "      <td>0.531789</td>\n",
              "      <td>0.805128</td>\n",
              "      <td>1.939136e+07</td>\n",
              "      <td>0.075892</td>\n",
              "      <td>0.083932</td>\n",
              "      <td>1.405833</td>\n",
              "      <td>0.475518</td>\n",
              "      <td>0.119784</td>\n",
              "      <td>0.029024</td>\n",
              "      <td>88.862624</td>\n",
              "      <td>2.474239</td>\n",
              "    </tr>\n",
              "    <tr>\n",
              "      <th>min</th>\n",
              "      <td>-83.655410</td>\n",
              "      <td>36.538877</td>\n",
              "      <td>1.000000</td>\n",
              "      <td>0.000000</td>\n",
              "      <td>0.000000</td>\n",
              "      <td>0.000000</td>\n",
              "      <td>0.000000</td>\n",
              "      <td>15.000000</td>\n",
              "      <td>0.000000</td>\n",
              "      <td>2013.000000</td>\n",
              "      <td>0.000000</td>\n",
              "      <td>0.000000</td>\n",
              "      <td>36.538877</td>\n",
              "      <td>1.300150e+08</td>\n",
              "      <td>0.000000</td>\n",
              "      <td>0.000000</td>\n",
              "      <td>-83.655410</td>\n",
              "      <td>0.000000</td>\n",
              "      <td>0.000000</td>\n",
              "      <td>0.000000</td>\n",
              "      <td>-6.089310</td>\n",
              "      <td>1.000000</td>\n",
              "    </tr>\n",
              "    <tr>\n",
              "      <th>25%</th>\n",
              "      <td>-78.302898</td>\n",
              "      <td>37.059660</td>\n",
              "      <td>214993.750000</td>\n",
              "      <td>0.000000</td>\n",
              "      <td>0.000000</td>\n",
              "      <td>0.000000</td>\n",
              "      <td>0.000000</td>\n",
              "      <td>45.000000</td>\n",
              "      <td>930.000000</td>\n",
              "      <td>2014.000000</td>\n",
              "      <td>0.000000</td>\n",
              "      <td>0.000000</td>\n",
              "      <td>37.059660</td>\n",
              "      <td>1.430101e+08</td>\n",
              "      <td>0.000000</td>\n",
              "      <td>0.000000</td>\n",
              "      <td>-78.302898</td>\n",
              "      <td>0.000000</td>\n",
              "      <td>0.000000</td>\n",
              "      <td>0.000000</td>\n",
              "      <td>1.350612</td>\n",
              "      <td>4.000000</td>\n",
              "    </tr>\n",
              "    <tr>\n",
              "      <th>50%</th>\n",
              "      <td>-77.449090</td>\n",
              "      <td>37.551710</td>\n",
              "      <td>429986.500000</td>\n",
              "      <td>0.000000</td>\n",
              "      <td>0.000000</td>\n",
              "      <td>0.000000</td>\n",
              "      <td>0.000000</td>\n",
              "      <td>45.000000</td>\n",
              "      <td>1429.000000</td>\n",
              "      <td>2016.000000</td>\n",
              "      <td>0.000000</td>\n",
              "      <td>0.000000</td>\n",
              "      <td>37.551710</td>\n",
              "      <td>1.619452e+08</td>\n",
              "      <td>0.000000</td>\n",
              "      <td>0.000000</td>\n",
              "      <td>-77.449090</td>\n",
              "      <td>1.000000</td>\n",
              "      <td>0.000000</td>\n",
              "      <td>0.000000</td>\n",
              "      <td>8.093705</td>\n",
              "      <td>5.000000</td>\n",
              "    </tr>\n",
              "    <tr>\n",
              "      <th>75%</th>\n",
              "      <td>-77.102105</td>\n",
              "      <td>38.661110</td>\n",
              "      <td>644979.250000</td>\n",
              "      <td>0.000000</td>\n",
              "      <td>0.000000</td>\n",
              "      <td>0.000000</td>\n",
              "      <td>0.000000</td>\n",
              "      <td>55.000000</td>\n",
              "      <td>1741.000000</td>\n",
              "      <td>2018.000000</td>\n",
              "      <td>0.000000</td>\n",
              "      <td>0.000000</td>\n",
              "      <td>38.661110</td>\n",
              "      <td>1.806951e+08</td>\n",
              "      <td>0.000000</td>\n",
              "      <td>0.000000</td>\n",
              "      <td>-77.102090</td>\n",
              "      <td>1.000000</td>\n",
              "      <td>0.000000</td>\n",
              "      <td>0.000000</td>\n",
              "      <td>71.300596</td>\n",
              "      <td>8.000000</td>\n",
              "    </tr>\n",
              "    <tr>\n",
              "      <th>max</th>\n",
              "      <td>-75.344180</td>\n",
              "      <td>39.437610</td>\n",
              "      <td>859972.000000</td>\n",
              "      <td>1.000000</td>\n",
              "      <td>54.000000</td>\n",
              "      <td>1.000000</td>\n",
              "      <td>58.000000</td>\n",
              "      <td>70.000000</td>\n",
              "      <td>2359.000000</td>\n",
              "      <td>2019.000000</td>\n",
              "      <td>1.000000</td>\n",
              "      <td>33.000000</td>\n",
              "      <td>39.437610</td>\n",
              "      <td>2.001753e+08</td>\n",
              "      <td>1.000000</td>\n",
              "      <td>6.000000</td>\n",
              "      <td>-75.344180</td>\n",
              "      <td>1.000000</td>\n",
              "      <td>8.000000</td>\n",
              "      <td>3.000000</td>\n",
              "      <td>510.240000</td>\n",
              "      <td>9.000000</td>\n",
              "    </tr>\n",
              "  </tbody>\n",
              "</table>\n",
              "</div>"
            ],
            "text/plain": [
              "                   X              Y  ...         Rns_Mp  VDOT_District\n",
              "count  859931.000000  859931.000000  ...  815249.000000  859972.000000\n",
              "mean      -77.810353      37.773603  ...      54.780449       5.610835\n",
              "std         1.405824       0.805128  ...      88.862624       2.474239\n",
              "min       -83.655410      36.538877  ...      -6.089310       1.000000\n",
              "25%       -78.302898      37.059660  ...       1.350612       4.000000\n",
              "50%       -77.449090      37.551710  ...       8.093705       5.000000\n",
              "75%       -77.102105      38.661110  ...      71.300596       8.000000\n",
              "max       -75.344180      39.437610  ...     510.240000       9.000000\n",
              "\n",
              "[8 rows x 22 columns]"
            ]
          },
          "metadata": {
            "tags": []
          },
          "execution_count": 6
        }
      ]
    },
    {
      "cell_type": "code",
      "metadata": {
        "id": "mQF_jIx5F0kY",
        "colab_type": "code",
        "colab": {
          "base_uri": "https://localhost:8080/",
          "height": 1000
        },
        "outputId": "a50fa810-121f-4a3d-954e-9431d9a8e4d6"
      },
      "source": [
        "dataset.info()"
      ],
      "execution_count": null,
      "outputs": [
        {
          "output_type": "stream",
          "text": [
            "<class 'pandas.core.frame.DataFrame'>\n",
            "RangeIndex: 859972 entries, 0 to 859971\n",
            "Data columns (total 66 columns):\n",
            "X                                  859931 non-null float64\n",
            "Y                                  859931 non-null float64\n",
            "OBJECTID                           859972 non-null int64\n",
            "Alcohol_Notalcohol                 859972 non-null object\n",
            "A_Crash                            859972 non-null int64\n",
            "A_People                           859972 non-null int64\n",
            "Belted_Unbelted                    859972 non-null object\n",
            "Bike_Nonbike                       859972 non-null object\n",
            "B_Crash                            859972 non-null int64\n",
            "B_People                           859972 non-null int64\n",
            "Carspeedlimit                      456288 non-null float64\n",
            "Collision_Type                     859972 non-null object\n",
            "Crash_Dt                           859972 non-null object\n",
            "Crash_Event_Type_Dsc               859972 non-null object\n",
            "Crash_Military_Tm                  859972 non-null int64\n",
            "Crash_Severity                     859972 non-null object\n",
            "Crash_Year                         859972 non-null int64\n",
            "C_Crash                            859972 non-null int64\n",
            "C_People                           859972 non-null int64\n",
            "First_Harmful_Event_of_Entire_C    859972 non-null object\n",
            "Physical_Juris                     859972 non-null object\n",
            "Ownership                          859972 non-null object\n",
            "LATITUDE                           859931 non-null float64\n",
            "Plan_District                      859972 non-null object\n",
            "DIAGRAM                            859972 non-null object\n",
            "Deer_Nodeer                        859972 non-null object\n",
            "Distracted_Notdistracted           859972 non-null object\n",
            "Document_Nbr                       859972 non-null int64\n",
            "Driverage                          845105 non-null object\n",
            "Drivergen                          859972 non-null object\n",
            "Driverinjurytype                   859972 non-null object\n",
            "Driver_Action_Type_Cd              859972 non-null object\n",
            "FAC                                763974 non-null object\n",
            "Fatal_Crashes                      859972 non-null int64\n",
            "FUN                                763974 non-null object\n",
            "K_PEOPLE                           859972 non-null int64\n",
            "LONGITUDE                          859935 non-null float64\n",
            "Light_Condition                    859972 non-null object\n",
            "LOCAL_CASE_CD                      857900 non-null object\n",
            "Motor_Nonmotor                     859972 non-null object\n",
            "MPO_Name                           655870 non-null object\n",
            "Passage                            69333 non-null object\n",
            "Passgen                            71391 non-null object\n",
            "Passinjurytype                     71391 non-null object\n",
            "Pdo_Crash                          859972 non-null int64\n",
            "Pedage                             11046 non-null object\n",
            "Pedestrians_Injured                859972 non-null int64\n",
            "Pedestrians_Killed                 859972 non-null int64\n",
            "Pedgen                             11287 non-null object\n",
            "Pedinjurytype                      11287 non-null object\n",
            "Ped_Nonped                         859972 non-null object\n",
            "Rd_Type                            859972 non-null object\n",
            "Rns_Mp                             815249 non-null float64\n",
            "Roadway_Surface_Cond               859972 non-null object\n",
            "Route_Or_Street_Nm                 859972 non-null object\n",
            "Rte_Nm                             859972 non-null object\n",
            "Senior_Notsenior                   859972 non-null object\n",
            "Speed_Notspeed                     859972 non-null object\n",
            "SYSTEM                             859972 non-null object\n",
            "VDOT_District                      859972 non-null int64\n",
            "Vehiclenumber                      859972 non-null object\n",
            "Vehicle_Body_Type_Cd               859972 non-null object\n",
            "Weather_Condition                  859972 non-null object\n",
            "Work_Zone_Related                  859972 non-null object\n",
            "Young_Notyoung                     859972 non-null object\n",
            "VDOT_District_1                    859972 non-null object\n",
            "dtypes: float64(6), int64(16), object(44)\n",
            "memory usage: 433.0+ MB\n"
          ],
          "name": "stdout"
        }
      ]
    },
    {
      "cell_type": "code",
      "metadata": {
        "id": "-jlNG-ssGdzM",
        "colab_type": "code",
        "colab": {
          "base_uri": "https://localhost:8080/",
          "height": 323
        },
        "outputId": "af6c4ad9-18fe-45a6-d4f2-de7bae913eac"
      },
      "source": [
        "# Drop features that are not related to the road and route features\n",
        "route_cond_data = dataset.drop(['Ownership', 'Rd_Type', 'Physical_Juris', 'Plan_District', 'Route_Or_Street_Nm','Rte_Nm','VDOT_District','VDOT_District_1','FUN','X', 'Y','OBJECTID','A_Crash', 'A_People', 'Alcohol_Notalcohol', 'B_Crash', 'B_People', 'Belted_Unbelted', 'Bike_Nonbike', 'C_Crash', 'C_People', 'Collision_Type', 'Crash_Dt', 'Crash_Event_Type_Dsc', 'Crash_Military_Tm', 'Crash_Year', 'DIAGRAM', 'Distracted_Notdistracted', 'Document_Nbr', 'Driver_Action_Type_Cd', 'Driverage', 'Drivergen', 'Driverinjurytype', 'FAC', 'Fatal_Crashes', 'First_Harmful_Event_of_Entire_C', 'K_PEOPLE', 'LOCAL_CASE_CD', 'Motor_Nonmotor', 'MPO_Name', 'Passage', 'Passgen', 'Passinjurytype', 'Pdo_Crash', 'Pedage', 'Pedestrians_Injured', 'Pedestrians_Killed', 'Pedgen', 'Pedinjurytype', 'Rns_Mp', 'Senior_Notsenior', 'SYSTEM', 'Vehiclenumber', 'Vehicle_Body_Type_Cd', 'Young_Notyoung'], axis=1)\n",
        "route_cond_data.info()"
      ],
      "execution_count": null,
      "outputs": [
        {
          "output_type": "stream",
          "text": [
            "<class 'pandas.core.frame.DataFrame'>\n",
            "RangeIndex: 859972 entries, 0 to 859971\n",
            "Data columns (total 11 columns):\n",
            " #   Column                Non-Null Count   Dtype  \n",
            "---  ------                --------------   -----  \n",
            " 0   Carspeedlimit         456288 non-null  float64\n",
            " 1   Crash_Severity        859972 non-null  object \n",
            " 2   LATITUDE              859931 non-null  float64\n",
            " 3   Deer_Nodeer           859972 non-null  object \n",
            " 4   LONGITUDE             859935 non-null  float64\n",
            " 5   Light_Condition       859972 non-null  object \n",
            " 6   Ped_Nonped            859972 non-null  object \n",
            " 7   Roadway_Surface_Cond  859972 non-null  object \n",
            " 8   Speed_Notspeed        859972 non-null  object \n",
            " 9   Weather_Condition     859972 non-null  object \n",
            " 10  Work_Zone_Related     859972 non-null  object \n",
            "dtypes: float64(3), object(8)\n",
            "memory usage: 72.2+ MB\n"
          ],
          "name": "stdout"
        }
      ]
    },
    {
      "cell_type": "code",
      "metadata": {
        "id": "kdpYwcX9jv8w",
        "colab_type": "code",
        "colab": {
          "base_uri": "https://localhost:8080/",
          "height": 359
        },
        "outputId": "59dad65c-34dc-4c80-f3d3-3b7f56ad7f19"
      },
      "source": [
        "route_cond_data.head(10)"
      ],
      "execution_count": null,
      "outputs": [
        {
          "output_type": "execute_result",
          "data": {
            "text/html": [
              "<div>\n",
              "<style scoped>\n",
              "    .dataframe tbody tr th:only-of-type {\n",
              "        vertical-align: middle;\n",
              "    }\n",
              "\n",
              "    .dataframe tbody tr th {\n",
              "        vertical-align: top;\n",
              "    }\n",
              "\n",
              "    .dataframe thead th {\n",
              "        text-align: right;\n",
              "    }\n",
              "</style>\n",
              "<table border=\"1\" class=\"dataframe\">\n",
              "  <thead>\n",
              "    <tr style=\"text-align: right;\">\n",
              "      <th></th>\n",
              "      <th>Carspeedlimit</th>\n",
              "      <th>Crash_Severity</th>\n",
              "      <th>LATITUDE</th>\n",
              "      <th>Deer_Nodeer</th>\n",
              "      <th>LONGITUDE</th>\n",
              "      <th>Light_Condition</th>\n",
              "      <th>Ped_Nonped</th>\n",
              "      <th>Roadway_Surface_Cond</th>\n",
              "      <th>Speed_Notspeed</th>\n",
              "      <th>Weather_Condition</th>\n",
              "      <th>Work_Zone_Related</th>\n",
              "    </tr>\n",
              "  </thead>\n",
              "  <tbody>\n",
              "    <tr>\n",
              "      <th>0</th>\n",
              "      <td>35.0</td>\n",
              "      <td>A.Severe Injury</td>\n",
              "      <td>36.715610</td>\n",
              "      <td>Not_ANIMAL</td>\n",
              "      <td>-77.200260</td>\n",
              "      <td>2. Daylight</td>\n",
              "      <td>Not_PED</td>\n",
              "      <td>2. Wet</td>\n",
              "      <td>Not_SPEED</td>\n",
              "      <td>5. Rain</td>\n",
              "      <td>2. No</td>\n",
              "    </tr>\n",
              "    <tr>\n",
              "      <th>1</th>\n",
              "      <td>NaN</td>\n",
              "      <td>A.Severe Injury</td>\n",
              "      <td>38.527250</td>\n",
              "      <td>Not_ANIMAL</td>\n",
              "      <td>-77.568560</td>\n",
              "      <td>2. Daylight</td>\n",
              "      <td>Not_PED</td>\n",
              "      <td>1. Dry</td>\n",
              "      <td>Not_SPEED</td>\n",
              "      <td>1. No Adverse Condition (Clear/Cloudy)</td>\n",
              "      <td>2. No</td>\n",
              "    </tr>\n",
              "    <tr>\n",
              "      <th>2</th>\n",
              "      <td>NaN</td>\n",
              "      <td>A.Severe Injury</td>\n",
              "      <td>38.273410</td>\n",
              "      <td>Not_ANIMAL</td>\n",
              "      <td>-78.516050</td>\n",
              "      <td>2. Daylight</td>\n",
              "      <td>Not_PED</td>\n",
              "      <td>1. Dry</td>\n",
              "      <td>Not_SPEED</td>\n",
              "      <td>1. No Adverse Condition (Clear/Cloudy)</td>\n",
              "      <td>2. No</td>\n",
              "    </tr>\n",
              "    <tr>\n",
              "      <th>3</th>\n",
              "      <td>NaN</td>\n",
              "      <td>A.Severe Injury</td>\n",
              "      <td>38.317450</td>\n",
              "      <td>Not_ANIMAL</td>\n",
              "      <td>-77.956010</td>\n",
              "      <td>5. Darkness - Road Not Lighted</td>\n",
              "      <td>Not_PED</td>\n",
              "      <td>2. Wet</td>\n",
              "      <td>Not_SPEED</td>\n",
              "      <td>5. Rain</td>\n",
              "      <td>2. No</td>\n",
              "    </tr>\n",
              "    <tr>\n",
              "      <th>4</th>\n",
              "      <td>NaN</td>\n",
              "      <td>A.Severe Injury</td>\n",
              "      <td>38.220247</td>\n",
              "      <td>Not_ANIMAL</td>\n",
              "      <td>-77.523967</td>\n",
              "      <td>2. Daylight</td>\n",
              "      <td>Not_PED</td>\n",
              "      <td>1. Dry</td>\n",
              "      <td>Not_SPEED</td>\n",
              "      <td>1. No Adverse Condition (Clear/Cloudy)</td>\n",
              "      <td>2. No</td>\n",
              "    </tr>\n",
              "    <tr>\n",
              "      <th>5</th>\n",
              "      <td>45.0</td>\n",
              "      <td>A.Severe Injury</td>\n",
              "      <td>39.273440</td>\n",
              "      <td>Not_ANIMAL</td>\n",
              "      <td>-78.251330</td>\n",
              "      <td>2. Daylight</td>\n",
              "      <td>Not_PED</td>\n",
              "      <td>1. Dry</td>\n",
              "      <td>Not_SPEED</td>\n",
              "      <td>1. No Adverse Condition (Clear/Cloudy)</td>\n",
              "      <td>2. No</td>\n",
              "    </tr>\n",
              "    <tr>\n",
              "      <th>6</th>\n",
              "      <td>NaN</td>\n",
              "      <td>A.Severe Injury</td>\n",
              "      <td>36.650180</td>\n",
              "      <td>Not_ANIMAL</td>\n",
              "      <td>-78.921430</td>\n",
              "      <td>2. Daylight</td>\n",
              "      <td>Not_PED</td>\n",
              "      <td>1. Dry</td>\n",
              "      <td>Not_SPEED</td>\n",
              "      <td>1. No Adverse Condition (Clear/Cloudy)</td>\n",
              "      <td>2. No</td>\n",
              "    </tr>\n",
              "    <tr>\n",
              "      <th>7</th>\n",
              "      <td>NaN</td>\n",
              "      <td>A.Severe Injury</td>\n",
              "      <td>37.613570</td>\n",
              "      <td>Not_ANIMAL</td>\n",
              "      <td>-79.661560</td>\n",
              "      <td>2. Daylight</td>\n",
              "      <td>Not_PED</td>\n",
              "      <td>1. Dry</td>\n",
              "      <td>Not_SPEED</td>\n",
              "      <td>1. No Adverse Condition (Clear/Cloudy)</td>\n",
              "      <td>2. No</td>\n",
              "    </tr>\n",
              "    <tr>\n",
              "      <th>8</th>\n",
              "      <td>40.0</td>\n",
              "      <td>A.Severe Injury</td>\n",
              "      <td>37.130890</td>\n",
              "      <td>Not_ANIMAL</td>\n",
              "      <td>-82.307640</td>\n",
              "      <td>2. Daylight</td>\n",
              "      <td>Not_PED</td>\n",
              "      <td>1. Dry</td>\n",
              "      <td>Not_SPEED</td>\n",
              "      <td>1. No Adverse Condition (Clear/Cloudy)</td>\n",
              "      <td>2. No</td>\n",
              "    </tr>\n",
              "    <tr>\n",
              "      <th>9</th>\n",
              "      <td>NaN</td>\n",
              "      <td>A.Severe Injury</td>\n",
              "      <td>37.167910</td>\n",
              "      <td>Not_ANIMAL</td>\n",
              "      <td>-80.650610</td>\n",
              "      <td>3. Dusk</td>\n",
              "      <td>Not_PED</td>\n",
              "      <td>1. Dry</td>\n",
              "      <td>Not_SPEED</td>\n",
              "      <td>1. No Adverse Condition (Clear/Cloudy)</td>\n",
              "      <td>2. No</td>\n",
              "    </tr>\n",
              "  </tbody>\n",
              "</table>\n",
              "</div>"
            ],
            "text/plain": [
              "   Carspeedlimit  ... Work_Zone_Related\n",
              "0           35.0  ...             2. No\n",
              "1            NaN  ...             2. No\n",
              "2            NaN  ...             2. No\n",
              "3            NaN  ...             2. No\n",
              "4            NaN  ...             2. No\n",
              "5           45.0  ...             2. No\n",
              "6            NaN  ...             2. No\n",
              "7            NaN  ...             2. No\n",
              "8           40.0  ...             2. No\n",
              "9            NaN  ...             2. No\n",
              "\n",
              "[10 rows x 11 columns]"
            ]
          },
          "metadata": {
            "tags": []
          },
          "execution_count": 8
        }
      ]
    },
    {
      "cell_type": "code",
      "metadata": {
        "id": "C3mDFLhAkMgq",
        "colab_type": "code",
        "colab": {
          "base_uri": "https://localhost:8080/",
          "height": 54
        },
        "outputId": "c199184e-7b2c-47a6-b1e8-e44bd1317dce"
      },
      "source": [
        "X = route_cond_data.drop(\"Crash_Severity\", axis=1)\n",
        "y = route_cond_data[\"Crash_Severity\"].copy()\n",
        "'''\n",
        "train_set, test_set = train_test_split(route_cond_data, test_size=0.2, random_state=42)\n",
        "train_X = train_set.drop(\"Crash_Severity\", axis=1)\n",
        "train_y = train_set[\"Crash_Severity\"].copy()\n",
        "test_X = test_set.drop(\"Crash_Severity\", axis=1)\n",
        "test_y = test_set[\"Crash_Severity\"].copy()\n",
        "'''"
      ],
      "execution_count": null,
      "outputs": [
        {
          "output_type": "execute_result",
          "data": {
            "text/plain": [
              "'\\ntrain_set, test_set = train_test_split(route_cond_data, test_size=0.2, random_state=42)\\ntrain_X = train_set.drop(\"Crash_Severity\", axis=1)\\ntrain_y = train_set[\"Crash_Severity\"].copy()\\ntest_X = test_set.drop(\"Crash_Severity\", axis=1)\\ntest_y = test_set[\"Crash_Severity\"].copy()\\n'"
            ]
          },
          "metadata": {
            "tags": []
          },
          "execution_count": 9
        }
      ]
    },
    {
      "cell_type": "code",
      "metadata": {
        "id": "KRugm_f1MXT5",
        "colab_type": "code",
        "colab": {}
      },
      "source": [
        "X_train, X_test, train_y, test_y = train_test_split(route_cond_data, route_cond_data[\"Crash_Severity\"], test_size=0.2, random_state=49)\n",
        "X_train = X_train.drop(\"Crash_Severity\", axis=1)\n",
        "X_test = X_test.drop(\"Crash_Severity\", axis=1)\n",
        "#train_X, val_X, train_y, val_Y = train_test_split(X_train_full, y_train_full, test_size= 0.25, random_state=49) "
      ],
      "execution_count": null,
      "outputs": []
    },
    {
      "cell_type": "code",
      "metadata": {
        "id": "AiZYg9GkbzDF",
        "colab_type": "code",
        "colab": {}
      },
      "source": [
        "'''\n",
        "split = StratifiedShuffleSplit(n_splits=1, test_size=0.2, random_state=42)\n",
        "for train_index, test_index in split.split(route_cond_data, route_cond_data[\"Crash_Severity\"]):\n",
        "    train_set = route_cond_data.loc[train_index]\n",
        "    test_set = route_cond_data.loc[test_index]\n",
        "\n",
        "train_x = train_set.drop(\"Crash_Severity\", axis=1)\n",
        "train_y = train_set[\"Crash_Severity\"].copy()\n",
        "test_X = test_set.drop(\"Crash_Severity\", axis=1)\n",
        "test_y = test_set[\"Crash_Severity\"].copy()\n",
        "\n",
        "split = StratifiedShuffleSplit(n_splits=1, test_size=0.25, random_state=42)\n",
        "for train_index, test_index in split.split(route_cond_data, route_cond_data[\"Crash_Severity\"]):\n",
        "    train_set = route_cond_data.loc[train_index]\n",
        "    test_set = route_cond_data.loc[test_index]\n",
        "for train_index, valid_index in split.split(train_set, train_set[\"Crash_Severity\"]):\n",
        "    train2_set = train_set.loc[train_index]\n",
        "    valid_set = train_set.loc[valid_index]\n",
        "\n",
        "train2_x = train2_set.drop(\"Crash_Severity\", axis=1)\n",
        "train2_y = train2_set[\"Crash_Severity\"].copy()\n",
        "val_X = valid_set.drop(\"Crash_Severity\", axis=1)\n",
        "val_y = valid_set[\"Crash_Severity\"].copy()\n",
        "'''"
      ],
      "execution_count": null,
      "outputs": []
    },
    {
      "cell_type": "code",
      "metadata": {
        "id": "WDrdW01lb9Ll",
        "colab_type": "code",
        "colab": {
          "base_uri": "https://localhost:8080/",
          "height": 115
        },
        "outputId": "9702cdfc-0b42-401f-d4fe-581f4ead3b70"
      },
      "source": [
        "route_cond_data[\"Crash_Severity\"].value_counts() / len(route_cond_data)"
      ],
      "execution_count": null,
      "outputs": [
        {
          "output_type": "execute_result",
          "data": {
            "text/plain": [
              "PDO.Property Damage Only    0.654542\n",
              "B.Visible Injury            0.195923\n",
              "C.Nonvisible Injury         0.093025\n",
              "A.Severe Injury             0.050717\n",
              "K.Fatal Injury              0.005793\n",
              "Name: Crash_Severity, dtype: float64"
            ]
          },
          "metadata": {
            "tags": []
          },
          "execution_count": 112
        }
      ]
    },
    {
      "cell_type": "markdown",
      "metadata": {
        "id": "HN4xwBuMnOyk",
        "colab_type": "text"
      },
      "source": [
        "# 3. Data Cleaning"
      ]
    },
    {
      "cell_type": "code",
      "metadata": {
        "id": "86jna_Y5m8Sl",
        "colab_type": "code",
        "colab": {
          "base_uri": "https://localhost:8080/",
          "height": 204
        },
        "outputId": "e7a4602b-3435-49e6-bd5b-5d40652cd9b1"
      },
      "source": [
        "# Process numerical features \n",
        "# find missing values\n",
        "sample_incomplete_rows = X_train[X_train.isnull().any(axis=1)].head()\n",
        "sample_incomplete_rows"
      ],
      "execution_count": null,
      "outputs": [
        {
          "output_type": "execute_result",
          "data": {
            "text/html": [
              "<div>\n",
              "<style scoped>\n",
              "    .dataframe tbody tr th:only-of-type {\n",
              "        vertical-align: middle;\n",
              "    }\n",
              "\n",
              "    .dataframe tbody tr th {\n",
              "        vertical-align: top;\n",
              "    }\n",
              "\n",
              "    .dataframe thead th {\n",
              "        text-align: right;\n",
              "    }\n",
              "</style>\n",
              "<table border=\"1\" class=\"dataframe\">\n",
              "  <thead>\n",
              "    <tr style=\"text-align: right;\">\n",
              "      <th></th>\n",
              "      <th>Carspeedlimit</th>\n",
              "      <th>LATITUDE</th>\n",
              "      <th>Deer_Nodeer</th>\n",
              "      <th>LONGITUDE</th>\n",
              "      <th>Light_Condition</th>\n",
              "      <th>Ped_Nonped</th>\n",
              "      <th>Roadway_Surface_Cond</th>\n",
              "      <th>Speed_Notspeed</th>\n",
              "      <th>Weather_Condition</th>\n",
              "      <th>Work_Zone_Related</th>\n",
              "    </tr>\n",
              "  </thead>\n",
              "  <tbody>\n",
              "    <tr>\n",
              "      <th>702827</th>\n",
              "      <td>NaN</td>\n",
              "      <td>37.08011</td>\n",
              "      <td>Not_ANIMAL</td>\n",
              "      <td>-76.47854</td>\n",
              "      <td>2. Daylight</td>\n",
              "      <td>Not_PED</td>\n",
              "      <td>1. Dry</td>\n",
              "      <td>Not_SPEED</td>\n",
              "      <td>1. No Adverse Condition (Clear/Cloudy)</td>\n",
              "      <td>2. No</td>\n",
              "    </tr>\n",
              "    <tr>\n",
              "      <th>732053</th>\n",
              "      <td>NaN</td>\n",
              "      <td>37.02803</td>\n",
              "      <td>Not_ANIMAL</td>\n",
              "      <td>-76.42672</td>\n",
              "      <td>2. Daylight</td>\n",
              "      <td>Not_PED</td>\n",
              "      <td>1. Dry</td>\n",
              "      <td>Not_SPEED</td>\n",
              "      <td>1. No Adverse Condition (Clear/Cloudy)</td>\n",
              "      <td>2. No</td>\n",
              "    </tr>\n",
              "    <tr>\n",
              "      <th>237218</th>\n",
              "      <td>NaN</td>\n",
              "      <td>37.24327</td>\n",
              "      <td>Not_ANIMAL</td>\n",
              "      <td>-81.23896</td>\n",
              "      <td>2. Daylight</td>\n",
              "      <td>Not_PED</td>\n",
              "      <td>2. Wet</td>\n",
              "      <td>Not_SPEED</td>\n",
              "      <td>1. No Adverse Condition (Clear/Cloudy)</td>\n",
              "      <td>2. No</td>\n",
              "    </tr>\n",
              "    <tr>\n",
              "      <th>401505</th>\n",
              "      <td>NaN</td>\n",
              "      <td>38.86067</td>\n",
              "      <td>Not_ANIMAL</td>\n",
              "      <td>-77.30074</td>\n",
              "      <td>2. Daylight</td>\n",
              "      <td>Not_PED</td>\n",
              "      <td>1. Dry</td>\n",
              "      <td>Not_SPEED</td>\n",
              "      <td>1. No Adverse Condition (Clear/Cloudy)</td>\n",
              "      <td>2. No</td>\n",
              "    </tr>\n",
              "    <tr>\n",
              "      <th>40383</th>\n",
              "      <td>NaN</td>\n",
              "      <td>37.24326</td>\n",
              "      <td>Not_ANIMAL</td>\n",
              "      <td>-77.39114</td>\n",
              "      <td>2. Daylight</td>\n",
              "      <td>PED</td>\n",
              "      <td>1. Dry</td>\n",
              "      <td>Not_SPEED</td>\n",
              "      <td>1. No Adverse Condition (Clear/Cloudy)</td>\n",
              "      <td>2. No</td>\n",
              "    </tr>\n",
              "  </tbody>\n",
              "</table>\n",
              "</div>"
            ],
            "text/plain": [
              "        Carspeedlimit  ...  Work_Zone_Related\n",
              "702827            NaN  ...              2. No\n",
              "732053            NaN  ...              2. No\n",
              "237218            NaN  ...              2. No\n",
              "401505            NaN  ...              2. No\n",
              "40383             NaN  ...              2. No\n",
              "\n",
              "[5 rows x 10 columns]"
            ]
          },
          "metadata": {
            "tags": []
          },
          "execution_count": 11
        }
      ]
    },
    {
      "cell_type": "code",
      "metadata": {
        "id": "XNTqCdkyojsH",
        "colab_type": "code",
        "colab": {}
      },
      "source": [
        "# Get numerical values\n",
        "imputer = SimpleImputer(strategy=\"median\")\n",
        "X_num = X_train.drop([\"Deer_Nodeer\", \"Light_Condition\", \"Ped_Nonped\",\"Roadway_Surface_Cond\", \"Speed_Notspeed\", \"Weather_Condition\", \"Work_Zone_Related\"], axis=1)"
      ],
      "execution_count": null,
      "outputs": []
    },
    {
      "cell_type": "code",
      "metadata": {
        "id": "5ELEa7oPIV5j",
        "colab_type": "code",
        "colab": {
          "base_uri": "https://localhost:8080/",
          "height": 68
        },
        "outputId": "e8051f81-29aa-4e44-a622-6a3f480e9953"
      },
      "source": [
        "dataset[\"Speed_Notspeed\"].value_counts()"
      ],
      "execution_count": null,
      "outputs": [
        {
          "output_type": "execute_result",
          "data": {
            "text/plain": [
              "Not_SPEED    692623\n",
              "SPEED        167349\n",
              "Name: Speed_Notspeed, dtype: int64"
            ]
          },
          "metadata": {
            "tags": []
          },
          "execution_count": 19
        }
      ]
    },
    {
      "cell_type": "code",
      "metadata": {
        "id": "6CZP9TNYsaoe",
        "colab_type": "code",
        "colab": {}
      },
      "source": [
        "num_pipeline = Pipeline([\n",
        "        ('imputer', SimpleImputer(strategy=\"median\")),\n",
        "        ('std_scaler', StandardScaler()),\n",
        "])"
      ],
      "execution_count": null,
      "outputs": []
    },
    {
      "cell_type": "code",
      "metadata": {
        "id": "K6zl4TeVUD8i",
        "colab_type": "code",
        "colab": {}
      },
      "source": [
        "num_attribs = list(X_num)\n",
        "cat_attribs = [\"Deer_Nodeer\", \"Light_Condition\", \"Ped_Nonped\", \"Roadway_Surface_Cond\", \"Speed_Notspeed\", \"Weather_Condition\", \"Work_Zone_Related\"]\n",
        "\n",
        "full_pipeline = ColumnTransformer([\n",
        "        (\"num\", num_pipeline, num_attribs),\n",
        "        (\"cat\", OneHotEncoder(handle_unknown=\"ignore\"), cat_attribs),\n",
        "    ])\n",
        "\n",
        "X_train_prepared = full_pipeline.fit_transform(X_train)\n",
        "#X_val_prepared = full_pipeline.transform(val_X)\n",
        "X_test_prepared = full_pipeline.transform(X_test)"
      ],
      "execution_count": null,
      "outputs": []
    },
    {
      "cell_type": "code",
      "metadata": {
        "id": "NT8M5w9Jtke6",
        "colab_type": "code",
        "colab": {
          "base_uri": "https://localhost:8080/",
          "height": 33
        },
        "outputId": "af1c620f-72e9-448a-afb5-1e9feea63893"
      },
      "source": [
        "print(X_train_prepared.shape)"
      ],
      "execution_count": null,
      "outputs": [
        {
          "output_type": "stream",
          "text": [
            "(687977, 39)\n"
          ],
          "name": "stdout"
        }
      ]
    },
    {
      "cell_type": "code",
      "metadata": {
        "id": "61VlTSb1Zo16",
        "colab_type": "code",
        "colab": {
          "base_uri": "https://localhost:8080/",
          "height": 66
        },
        "outputId": "1a869dc0-3d2c-4196-8200-83057921ec64"
      },
      "source": [
        "# encode labels\n",
        "le = preprocessing.LabelEncoder()\n",
        "le.fit(y)\n",
        "train_y_prepared = le.transform(train_y)\n",
        "test_y_prepared = le.transform(test_y)\n",
        "print(train_y_prepared)\n",
        "le.classes_"
      ],
      "execution_count": null,
      "outputs": [
        {
          "output_type": "stream",
          "text": [
            "[4 4 4 ... 4 1 4]\n"
          ],
          "name": "stdout"
        },
        {
          "output_type": "execute_result",
          "data": {
            "text/plain": [
              "array(['A.Severe Injury', 'B.Visible Injury', 'C.Nonvisible Injury',\n",
              "       'K.Fatal Injury', 'PDO.Property Damage Only'], dtype=object)"
            ]
          },
          "metadata": {
            "tags": []
          },
          "execution_count": 12
        }
      ]
    },
    {
      "cell_type": "code",
      "metadata": {
        "id": "LkWTt-vD_C7S",
        "colab_type": "code",
        "colab": {
          "base_uri": "https://localhost:8080/",
          "height": 884
        },
        "outputId": "c50595dc-c3e8-47b4-cf00-6270de242369"
      },
      "source": [
        "print(X_train_prepared)"
      ],
      "execution_count": null,
      "outputs": [
        {
          "output_type": "stream",
          "text": [
            "  (0, 0)\t2.698441338958062\n",
            "  (0, 1)\t-1.0389163782050703\n",
            "  (0, 2)\t-2.380705601685825\n",
            "  (0, 6)\t1.0\n",
            "  (0, 11)\t1.0\n",
            "  (0, 13)\t1.0\n",
            "  (0, 19)\t1.0\n",
            "  (0, 24)\t1.0\n",
            "  (0, 33)\t1.0\n",
            "  (0, 39)\t1.0\n",
            "  (0, 45)\t1.0\n",
            "  (1, 0)\t-1.4521884943928645\n",
            "  (1, 1)\t1.6929114817665816\n",
            "  (1, 2)\t0.08512929779628048\n",
            "  (1, 8)\t1.0\n",
            "  (1, 11)\t1.0\n",
            "  (1, 13)\t1.0\n",
            "  (1, 19)\t1.0\n",
            "  (1, 21)\t1.0\n",
            "  (1, 32)\t1.0\n",
            "  (1, 34)\t1.0\n",
            "  (1, 45)\t1.0\n",
            "  (2, 0)\t0.9195999818076649\n",
            "  (2, 1)\t-0.24272809498392078\n",
            "  (2, 2)\t0.23878326944519157\n",
            "  :\t:\n",
            "  (515979, 32)\t1.0\n",
            "  (515979, 34)\t1.0\n",
            "  (515979, 45)\t1.0\n",
            "  (515980, 0)\t-0.2662942562925998\n",
            "  (515980, 1)\t1.4858503435037747\n",
            "  (515980, 2)\t0.3068883167420183\n",
            "  (515980, 5)\t1.0\n",
            "  (515980, 11)\t1.0\n",
            "  (515980, 13)\t1.0\n",
            "  (515980, 19)\t1.0\n",
            "  (515980, 21)\t1.0\n",
            "  (515980, 33)\t1.0\n",
            "  (515980, 34)\t1.0\n",
            "  (515980, 45)\t1.0\n",
            "  (515981, 0)\t-0.2662942562925998\n",
            "  (515981, 1)\t-1.1834056657453107\n",
            "  (515981, 2)\t1.0539184420439736\n",
            "  (515981, 4)\t1.0\n",
            "  (515981, 11)\t1.0\n",
            "  (515981, 15)\t1.0\n",
            "  (515981, 19)\t1.0\n",
            "  (515981, 21)\t1.0\n",
            "  (515981, 32)\t1.0\n",
            "  (515981, 34)\t1.0\n",
            "  (515981, 45)\t1.0\n"
          ],
          "name": "stdout"
        }
      ]
    },
    {
      "cell_type": "markdown",
      "metadata": {
        "id": "0aJ3DZwfUu7o",
        "colab_type": "text"
      },
      "source": [
        "# 4. Training\n"
      ]
    },
    {
      "cell_type": "code",
      "metadata": {
        "id": "apTsipJOWSvT",
        "colab_type": "code",
        "colab": {}
      },
      "source": [
        "# Random Forest\n",
        "forest_clf = RandomForestClassifier(random_state=42)\n",
        "param_distributions = { \n",
        "    'n_estimators': [100, 200],\n",
        "    'max_features': ['auto', 'sqrt', 'log2'],\n",
        "    'criterion' :['gini', 'entropy']\n",
        "}\n",
        "forest_clf_rv = RandomizedSearchCV(estimator=forest_clf, param_distributions=param_distributions, cv=3)"
      ],
      "execution_count": null,
      "outputs": []
    },
    {
      "cell_type": "code",
      "metadata": {
        "id": "IEebDwcX12By",
        "colab_type": "code",
        "colab": {
          "base_uri": "https://localhost:8080/",
          "height": 474
        },
        "outputId": "6f8224fc-558e-49cd-e2d5-cae5a1813eda"
      },
      "source": [
        "forest_clf_rv.fit(X_train_prepared[:3000], train_y_prepared[:3000])\n"
      ],
      "execution_count": null,
      "outputs": [
        {
          "output_type": "execute_result",
          "data": {
            "text/plain": [
              "RandomizedSearchCV(cv=3, error_score=nan,\n",
              "                   estimator=RandomForestClassifier(bootstrap=True,\n",
              "                                                    ccp_alpha=0.0,\n",
              "                                                    class_weight=None,\n",
              "                                                    criterion='gini',\n",
              "                                                    max_depth=None,\n",
              "                                                    max_features='auto',\n",
              "                                                    max_leaf_nodes=None,\n",
              "                                                    max_samples=None,\n",
              "                                                    min_impurity_decrease=0.0,\n",
              "                                                    min_impurity_split=None,\n",
              "                                                    min_samples_leaf=1,\n",
              "                                                    min_samples_split=2,\n",
              "                                                    min_weight_fraction_leaf=0.0,\n",
              "                                                    n_estimators=100,\n",
              "                                                    n_jobs=None,\n",
              "                                                    oob_score=False,\n",
              "                                                    random_state=42, verbose=0,\n",
              "                                                    warm_start=False),\n",
              "                   iid='deprecated', n_iter=10, n_jobs=None,\n",
              "                   param_distributions={'criterion': ['gini', 'entropy'],\n",
              "                                        'max_features': ['auto', 'sqrt',\n",
              "                                                         'log2'],\n",
              "                                        'n_estimators': [100, 200]},\n",
              "                   pre_dispatch='2*n_jobs', random_state=None, refit=True,\n",
              "                   return_train_score=False, scoring=None, verbose=0)"
            ]
          },
          "metadata": {
            "tags": []
          },
          "execution_count": 22
        }
      ]
    },
    {
      "cell_type": "code",
      "metadata": {
        "id": "5p121D_C2JMR",
        "colab_type": "code",
        "colab": {
          "base_uri": "https://localhost:8080/",
          "height": 158
        },
        "outputId": "d4c17523-442c-4a73-ce04-84e237866f38"
      },
      "source": [
        "forest_clf_tuned = RandomForestClassifier(max_features='auto', n_estimators=100, criterion='gini' )\n",
        "forest_clf_tuned.fit(X_train_prepared, train_y_prepared)"
      ],
      "execution_count": null,
      "outputs": [
        {
          "output_type": "execute_result",
          "data": {
            "text/plain": [
              "RandomForestClassifier(bootstrap=True, ccp_alpha=0.0, class_weight=None,\n",
              "                       criterion='gini', max_depth=None, max_features='auto',\n",
              "                       max_leaf_nodes=None, max_samples=None,\n",
              "                       min_impurity_decrease=0.0, min_impurity_split=None,\n",
              "                       min_samples_leaf=1, min_samples_split=2,\n",
              "                       min_weight_fraction_leaf=0.0, n_estimators=100,\n",
              "                       n_jobs=None, oob_score=False, random_state=None,\n",
              "                       verbose=0, warm_start=False)"
            ]
          },
          "metadata": {
            "tags": []
          },
          "execution_count": 28
        }
      ]
    },
    {
      "cell_type": "code",
      "metadata": {
        "id": "MY8DqHuD3d8y",
        "colab_type": "code",
        "colab": {}
      },
      "source": [
        "y_pred = forest_clf_tuned.predict(X_test_prepared)\n"
      ],
      "execution_count": null,
      "outputs": []
    },
    {
      "cell_type": "code",
      "metadata": {
        "id": "041M-mHM3hM7",
        "colab_type": "code",
        "colab": {
          "base_uri": "https://localhost:8080/",
          "height": 34
        },
        "outputId": "53efaefe-bed6-4901-e22c-97304c6ad53b"
      },
      "source": [
        "acc = accuracy_score(test_y_prepared,y_pred)\n",
        "print(acc)"
      ],
      "execution_count": null,
      "outputs": [
        {
          "output_type": "stream",
          "text": [
            "0.5688711881159336\n"
          ],
          "name": "stdout"
        }
      ]
    },
    {
      "cell_type": "markdown",
      "metadata": {
        "id": "G91ZYslcfLMl",
        "colab_type": "text"
      },
      "source": [
        "### KNN Section\n",
        "*We tried this out, but didn't think it was valuable enough to include it as a finding in our report.*"
      ]
    },
    {
      "cell_type": "code",
      "metadata": {
        "id": "Vc1_mTk42KPd",
        "colab_type": "code",
        "colab": {
          "base_uri": "https://localhost:8080/",
          "height": 66
        },
        "outputId": "fa70fdfe-6776-4778-b6cd-b286f559ddbe"
      },
      "source": [
        "knn_clf = KNeighborsClassifier(weights='distance', n_neighbors=4)\n",
        "knn_clf.fit(X_train_prepared, train_y_prepared)"
      ],
      "execution_count": null,
      "outputs": [
        {
          "output_type": "execute_result",
          "data": {
            "text/plain": [
              "KNeighborsClassifier(algorithm='auto', leaf_size=30, metric='minkowski',\n",
              "                     metric_params=None, n_jobs=None, n_neighbors=4, p=2,\n",
              "                     weights='distance')"
            ]
          },
          "metadata": {
            "tags": []
          },
          "execution_count": 12
        }
      ]
    },
    {
      "cell_type": "code",
      "metadata": {
        "id": "ODfKyfEZ2iwz",
        "colab_type": "code",
        "colab": {}
      },
      "source": [
        "y_knn_pred = knn_clf.predict(X_test_prepared)"
      ],
      "execution_count": null,
      "outputs": []
    },
    {
      "cell_type": "code",
      "metadata": {
        "id": "1TRlgxHc2j7A",
        "colab_type": "code",
        "colab": {
          "base_uri": "https://localhost:8080/",
          "height": 33
        },
        "outputId": "3fbeaae0-26d0-42e2-84ca-be36cfe6f94a"
      },
      "source": [
        "acc = accuracy_score(test_y_prepared,y_knn_pred)\n",
        "print(acc)\n"
      ],
      "execution_count": null,
      "outputs": [
        {
          "output_type": "stream",
          "text": [
            "0.5592546294950435\n"
          ],
          "name": "stdout"
        }
      ]
    },
    {
      "cell_type": "markdown",
      "metadata": {
        "id": "QYGmmTWuuLOe",
        "colab_type": "text"
      },
      "source": [
        "### XGBoost\n"
      ]
    },
    {
      "cell_type": "code",
      "metadata": {
        "id": "UEfPDyd2vvTY",
        "colab_type": "code",
        "colab": {}
      },
      "source": [
        "#IMPORTS\n",
        "from sklearn.decomposition import PCA\n",
        "from sklearn.feature_selection import SelectKBest\n",
        "from sklearn.feature_selection import f_classif\n",
        "from sklearn.linear_model import LogisticRegression\n",
        "from sklearn.ensemble import AdaBoostClassifier\n",
        "from sklearn.svm import SVC\n",
        "import xgboost as xgb\n",
        "import sklearn\n",
        "import numpy as np\n",
        "import matplotlib.pyplot as plt\n",
        "\n",
        "from sklearn.model_selection import RandomizedSearchCV"
      ],
      "execution_count": null,
      "outputs": []
    },
    {
      "cell_type": "code",
      "metadata": {
        "id": "BIqPFrZaPwdC",
        "colab_type": "code",
        "colab": {}
      },
      "source": [
        "xg = xgb.XGBClassifier(objective='multi:softmax', random_state = 42)"
      ],
      "execution_count": null,
      "outputs": []
    },
    {
      "cell_type": "code",
      "metadata": {
        "id": "Kr5U0SR4bXdc",
        "colab_type": "code",
        "colab": {
          "base_uri": "https://localhost:8080/",
          "height": 131
        },
        "outputId": "d5beaff0-35f6-47b4-f923-c64c060ce396"
      },
      "source": [
        "xg.fit(X_train_prepared, train_y_prepared)"
      ],
      "execution_count": null,
      "outputs": [
        {
          "output_type": "execute_result",
          "data": {
            "text/plain": [
              "XGBClassifier(base_score=0.5, booster='gbtree', colsample_bylevel=1,\n",
              "              colsample_bynode=1, colsample_bytree=1, gamma=0,\n",
              "              learning_rate=0.1, max_delta_step=0, max_depth=3,\n",
              "              min_child_weight=1, missing=None, n_estimators=100, n_jobs=1,\n",
              "              nthread=None, objective='multi:softprob', random_state=42,\n",
              "              reg_alpha=0, reg_lambda=1, scale_pos_weight=1, seed=None,\n",
              "              silent=None, subsample=1, verbosity=1)"
            ]
          },
          "metadata": {
            "tags": []
          },
          "execution_count": 145
        }
      ]
    },
    {
      "cell_type": "code",
      "metadata": {
        "id": "196eKalwNnpg",
        "colab_type": "code",
        "colab": {}
      },
      "source": [
        "#Predict the response for test dataset\n",
        "y_pred = xg.predict(X_test_prepared)"
      ],
      "execution_count": null,
      "outputs": []
    },
    {
      "cell_type": "code",
      "metadata": {
        "id": "N1niZvq-Nzl5",
        "colab_type": "code",
        "colab": {
          "base_uri": "https://localhost:8080/",
          "height": 33
        },
        "outputId": "b98e1efa-c44f-4a76-ec97-5a06ec2eb3a0"
      },
      "source": [
        "acc = accuracy_score(test_y_prepared,y_pred)\n",
        "print(acc)"
      ],
      "execution_count": null,
      "outputs": [
        {
          "output_type": "stream",
          "text": [
            "0.661234338207506\n"
          ],
          "name": "stdout"
        }
      ]
    },
    {
      "cell_type": "code",
      "metadata": {
        "id": "cIZMBXCmmNo4",
        "colab_type": "code",
        "colab": {}
      },
      "source": [
        "scorer = sklearn.metrics.make_scorer(sklearn.metrics.f1_score, average = 'weighted')\n"
      ],
      "execution_count": null,
      "outputs": []
    },
    {
      "cell_type": "code",
      "metadata": {
        "id": "tx56pIaxkXRR",
        "colab_type": "code",
        "colab": {
          "base_uri": "https://localhost:8080/",
          "height": 505
        },
        "outputId": "7003d529-a30d-4ad5-bdd9-6f8b5b13dcc8"
      },
      "source": [
        "param_test1 = {'n_estimators':range(50,200,50), 'max_depth':range(3,10,2), 'colsample_bytree': [i/10.0 for i in range(1, 3)], 'subsample':[0.6,0.7,0.8,0.9], 'learning_rate': [.01, .05, .1, .5, 1]   }\n",
        "search1 = RandomizedSearchCV(estimator = xgb.XGBClassifier(objective='multi:softmax', random_state = 42), \n",
        "                       param_distributions = param_test1, scoring=scorer,n_jobs=4,iid=False, cv=3, verbose=1, n_iter = 100)\n",
        "search1.fit(X_train_prepared, train_y_prepared)"
      ],
      "execution_count": null,
      "outputs": [
        {
          "output_type": "stream",
          "text": [
            "Fitting 3 folds for each of 100 candidates, totalling 300 fits\n"
          ],
          "name": "stdout"
        },
        {
          "output_type": "stream",
          "text": [
            "[Parallel(n_jobs=4)]: Using backend LokyBackend with 4 concurrent workers.\n",
            "[Parallel(n_jobs=4)]: Done  42 tasks      | elapsed: 45.4min\n",
            "[Parallel(n_jobs=4)]: Done 192 tasks      | elapsed: 203.6min\n",
            "[Parallel(n_jobs=4)]: Done 300 out of 300 | elapsed: 326.2min finished\n",
            "/usr/local/lib/python3.6/dist-packages/sklearn/model_selection/_search.py:823: FutureWarning: The parameter 'iid' is deprecated in 0.22 and will be removed in 0.24.\n",
            "  \"removed in 0.24.\", FutureWarning\n"
          ],
          "name": "stderr"
        },
        {
          "output_type": "execute_result",
          "data": {
            "text/plain": [
              "RandomizedSearchCV(cv=3, error_score=nan,\n",
              "                   estimator=XGBClassifier(base_score=0.5, booster='gbtree',\n",
              "                                           colsample_bylevel=1,\n",
              "                                           colsample_bynode=1,\n",
              "                                           colsample_bytree=1, gamma=0,\n",
              "                                           learning_rate=0.1, max_delta_step=0,\n",
              "                                           max_depth=3, min_child_weight=1,\n",
              "                                           missing=None, n_estimators=100,\n",
              "                                           n_jobs=1, nthread=None,\n",
              "                                           objective='multi:softmax',\n",
              "                                           random_state=42, reg_alpha=0,\n",
              "                                           reg_lambda=1, sca...\n",
              "                                           verbosity=1),\n",
              "                   iid=False, n_iter=100, n_jobs=4,\n",
              "                   param_distributions={'colsample_bytree': [0.1, 0.2],\n",
              "                                        'learning_rate': [0.01, 0.05, 0.1, 0.5,\n",
              "                                                          1],\n",
              "                                        'max_depth': range(3, 10, 2),\n",
              "                                        'n_estimators': range(50, 200, 50),\n",
              "                                        'subsample': [0.6, 0.7, 0.8, 0.9]},\n",
              "                   pre_dispatch='2*n_jobs', random_state=None, refit=True,\n",
              "                   return_train_score=False,\n",
              "                   scoring=make_scorer(f1_score, average=weighted), verbose=1)"
            ]
          },
          "metadata": {
            "tags": []
          },
          "execution_count": 134
        }
      ]
    },
    {
      "cell_type": "code",
      "metadata": {
        "id": "dWJHdD_7kvGw",
        "colab_type": "code",
        "colab": {
          "base_uri": "https://localhost:8080/",
          "height": 391
        },
        "outputId": "60c1b27f-b579-4011-bfe1-fe109d16c5f6"
      },
      "source": [
        "search1.best_estimator_.get_params()"
      ],
      "execution_count": null,
      "outputs": [
        {
          "output_type": "execute_result",
          "data": {
            "text/plain": [
              "{'base_score': 0.5,\n",
              " 'booster': 'gbtree',\n",
              " 'colsample_bylevel': 1,\n",
              " 'colsample_bynode': 1,\n",
              " 'colsample_bytree': 0.2,\n",
              " 'gamma': 0,\n",
              " 'learning_rate': 1,\n",
              " 'max_delta_step': 0,\n",
              " 'max_depth': 9,\n",
              " 'min_child_weight': 1,\n",
              " 'missing': None,\n",
              " 'n_estimators': 50,\n",
              " 'n_jobs': 1,\n",
              " 'nthread': None,\n",
              " 'objective': 'multi:softprob',\n",
              " 'random_state': 42,\n",
              " 'reg_alpha': 0,\n",
              " 'reg_lambda': 1,\n",
              " 'scale_pos_weight': 1,\n",
              " 'seed': None,\n",
              " 'silent': None,\n",
              " 'subsample': 0.6,\n",
              " 'verbosity': 1}"
            ]
          },
          "metadata": {
            "tags": []
          },
          "execution_count": 135
        }
      ]
    },
    {
      "cell_type": "code",
      "metadata": {
        "id": "oUZSWTE0pCJo",
        "colab_type": "code",
        "colab": {}
      },
      "source": [
        "y_pred = search1.predict(X_test_prepared)"
      ],
      "execution_count": null,
      "outputs": []
    },
    {
      "cell_type": "code",
      "metadata": {
        "id": "ECkAWnWQuUY0",
        "colab_type": "code",
        "colab": {
          "base_uri": "https://localhost:8080/",
          "height": 33
        },
        "outputId": "211673bf-b467-4762-d90e-1726b29f0290"
      },
      "source": [
        "acc = accuracy_score(test_y_prepared,y_pred)\n",
        "print(acc)"
      ],
      "execution_count": null,
      "outputs": [
        {
          "output_type": "stream",
          "text": [
            "0.6590133434111457\n"
          ],
          "name": "stdout"
        }
      ]
    },
    {
      "cell_type": "markdown",
      "metadata": {
        "id": "CJDr96mqVNWt",
        "colab_type": "text"
      },
      "source": [
        "###Feature Importance Scores"
      ]
    },
    {
      "cell_type": "code",
      "metadata": {
        "id": "pvCJr_S8uzqC",
        "colab_type": "code",
        "colab": {
          "base_uri": "https://localhost:8080/",
          "height": 147
        },
        "outputId": "2f772831-2fa4-450e-8435-86084123760d"
      },
      "source": [
        "feature_importances = search1.best_estimator_.feature_importances_\n",
        "feature_importances"
      ],
      "execution_count": null,
      "outputs": [
        {
          "output_type": "execute_result",
          "data": {
            "text/plain": [
              "array([0.01451472, 0.02002299, 0.02307455, 0.09421746, 0.10918941,\n",
              "       0.00371082, 0.01049057, 0.00339022, 0.0047467 , 0.01777141,\n",
              "       0.002281  , 0.02093618, 0.30410117, 0.21588773, 0.00553237,\n",
              "       0.00177382, 0.00432148, 0.00531453, 0.00641779, 0.00677542,\n",
              "       0.00153197, 0.00256041, 0.00264005, 0.0024885 , 0.0041398 ,\n",
              "       0.0520855 , 0.00941149, 0.00674552, 0.00176171, 0.00197372,\n",
              "       0.00284438, 0.00363017, 0.00547749, 0.01155761, 0.00450636,\n",
              "       0.00172614, 0.00233128, 0.00507234, 0.00304532], dtype=float32)"
            ]
          },
          "metadata": {
            "tags": []
          },
          "execution_count": 142
        }
      ]
    },
    {
      "cell_type": "code",
      "metadata": {
        "id": "jpTPBoPTxwom",
        "colab_type": "code",
        "colab": {
          "base_uri": "https://localhost:8080/",
          "height": 651
        },
        "outputId": "723a8a97-464a-48ca-d7c1-7bfa08840e8a"
      },
      "source": [
        "cat_encoder = full_pipeline.named_transformers_[\"cat\"]\n",
        "cat_one_hot_attribs = []\n",
        "for i in range(len(cat_encoder.categories_)):\n",
        "  for j in range(len(cat_encoder.categories_[i])):\n",
        "    cat_one_hot_attribs.append(cat_encoder.categories_[i][j])\n",
        "\n",
        "attributes = num_attribs + cat_one_hot_attribs\n",
        "sorted(zip(feature_importances, attributes), reverse=True)"
      ],
      "execution_count": null,
      "outputs": [
        {
          "output_type": "execute_result",
          "data": {
            "text/plain": [
              "[(0.30410117, 'Not_PED'),\n",
              " (0.21588773, 'PED'),\n",
              " (0.109189406, 'Not_ANIMAL'),\n",
              " (0.094217464, 'ANIMAL'),\n",
              " (0.052085504, 'Not_SPEED'),\n",
              " (0.023074554, 'LONGITUDE'),\n",
              " (0.02093618, '7. Unknown'),\n",
              " (0.020022992, 'LATITUDE'),\n",
              " (0.017771412, '5. Darkness - Road Not Lighted'),\n",
              " (0.014514715, 'Carspeedlimit'),\n",
              " (0.011557613, '6. Snow'),\n",
              " (0.010490569, '2. Daylight'),\n",
              " (0.009411492, 'SPEED'),\n",
              " (0.006775421, '4. Icy'),\n",
              " (0.006745521, '1. No Adverse Condition (Clear/Cloudy)'),\n",
              " (0.0064177946, '3. Snowy'),\n",
              " (0.005532369, '1. Dry'),\n",
              " (0.0054774904, '5. Rain'),\n",
              " (0.0053145294, '2. Wet'),\n",
              " (0.005072344, '1. Yes'),\n",
              " (0.004746705, '4. Darkness - Road Lighted'),\n",
              " (0.004506364, '7. Sleet/Hail'),\n",
              " (0.0043214764, '11. Sand, Dirt, Gravel'),\n",
              " (0.0041397987, '9. Water (Standing, Moving)'),\n",
              " (0.0037108187, '1. Dawn'),\n",
              " (0.00363017, '4. Mist'),\n",
              " (0.0033902226, '3. Dusk'),\n",
              " (0.0030453196, '2. No'),\n",
              " (0.0028443816, '3. Fog'),\n",
              " (0.0026400497, '7. Other'),\n",
              " (0.0025604104, '6. Oil/Other Fluids'),\n",
              " (0.0024885049, '8. Natural Debris'),\n",
              " (0.002331281, '9. Other'),\n",
              " (0.0022809966, '6. Darkness - Unknown Road Lighting'),\n",
              " (0.00197372, '11. Severe Crosswinds'),\n",
              " (0.0017738214, '10. Slush'),\n",
              " (0.0017617148, '10. Blowing Sand, Soil, Dirt, or Snow'),\n",
              " (0.0017261427, '8. Smoke/Dust'),\n",
              " (0.0015319689, '5. Muddy')]"
            ]
          },
          "metadata": {
            "tags": []
          },
          "execution_count": 143
        }
      ]
    },
    {
      "cell_type": "markdown",
      "metadata": {
        "id": "apjoPYZt86Bx",
        "colab_type": "text"
      },
      "source": [
        "### Logistic Regression"
      ]
    },
    {
      "cell_type": "code",
      "metadata": {
        "id": "wNsmI7k088lI",
        "colab_type": "code",
        "colab": {}
      },
      "source": [
        "from sklearn.linear_model import LogisticRegression\n",
        "from sklearn.model_selection import GridSearchCV\n",
        "import numpy as np"
      ],
      "execution_count": null,
      "outputs": []
    },
    {
      "cell_type": "code",
      "metadata": {
        "id": "cWmUoSdMVTpH",
        "colab_type": "code",
        "colab": {
          "base_uri": "https://localhost:8080/",
          "height": 248
        },
        "outputId": "afd4523c-2492-400d-d848-11ce34953098"
      },
      "source": [
        "logisticRegr = LogisticRegression()\n",
        "logisticRegr.fit(X_train_prepared, train_y_prepared)\n"
      ],
      "execution_count": null,
      "outputs": [
        {
          "output_type": "stream",
          "text": [
            "/usr/local/lib/python3.6/dist-packages/sklearn/linear_model/_logistic.py:940: ConvergenceWarning: lbfgs failed to converge (status=1):\n",
            "STOP: TOTAL NO. of ITERATIONS REACHED LIMIT.\n",
            "\n",
            "Increase the number of iterations (max_iter) or scale the data as shown in:\n",
            "    https://scikit-learn.org/stable/modules/preprocessing.html\n",
            "Please also refer to the documentation for alternative solver options:\n",
            "    https://scikit-learn.org/stable/modules/linear_model.html#logistic-regression\n",
            "  extra_warning_msg=_LOGISTIC_SOLVER_CONVERGENCE_MSG)\n"
          ],
          "name": "stderr"
        },
        {
          "output_type": "execute_result",
          "data": {
            "text/plain": [
              "LogisticRegression(C=1.0, class_weight=None, dual=False, fit_intercept=True,\n",
              "                   intercept_scaling=1, l1_ratio=None, max_iter=100,\n",
              "                   multi_class='auto', n_jobs=None, penalty='l2',\n",
              "                   random_state=None, solver='lbfgs', tol=0.0001, verbose=0,\n",
              "                   warm_start=False)"
            ]
          },
          "metadata": {
            "tags": []
          },
          "execution_count": 14
        }
      ]
    },
    {
      "cell_type": "code",
      "metadata": {
        "id": "ufv_Qu59Vvsk",
        "colab_type": "code",
        "colab": {}
      },
      "source": [
        "score = logisticRegr.score(X_test_prepared, test_y_prepared)"
      ],
      "execution_count": null,
      "outputs": []
    },
    {
      "cell_type": "code",
      "metadata": {
        "id": "GlvxdL5EV5pw",
        "colab_type": "code",
        "colab": {
          "base_uri": "https://localhost:8080/",
          "height": 33
        },
        "outputId": "0e7aa148-33b6-4501-8a0d-2334804a98ec"
      },
      "source": [
        "print(score)"
      ],
      "execution_count": null,
      "outputs": [
        {
          "output_type": "stream",
          "text": [
            "0.6610192156748743\n"
          ],
          "name": "stdout"
        }
      ]
    },
    {
      "cell_type": "markdown",
      "metadata": {
        "id": "U9UC-LIDljVi",
        "colab_type": "text"
      },
      "source": [
        "### Adaboost"
      ]
    },
    {
      "cell_type": "code",
      "metadata": {
        "id": "HGcaliYClkRX",
        "colab_type": "code",
        "colab": {}
      },
      "source": [
        "from sklearn.ensemble import AdaBoostClassifier"
      ],
      "execution_count": null,
      "outputs": []
    },
    {
      "cell_type": "code",
      "metadata": {
        "id": "Vzausn-NlnmN",
        "colab_type": "code",
        "colab": {}
      },
      "source": [
        "abc = AdaBoostClassifier(n_estimators=50,\n",
        "                         learning_rate=1)\n",
        "# Train Adaboost Classifer\n",
        "model = abc.fit(X_train_prepared, train_y_prepared)\n"
      ],
      "execution_count": null,
      "outputs": []
    },
    {
      "cell_type": "code",
      "metadata": {
        "id": "6C65LoE7lpMw",
        "colab_type": "code",
        "colab": {}
      },
      "source": [
        "#Predict the response for test dataset\n",
        "y_pred = model.predict(X_test_prepared)"
      ],
      "execution_count": null,
      "outputs": []
    },
    {
      "cell_type": "code",
      "metadata": {
        "id": "c2TzbTLMlqvY",
        "colab_type": "code",
        "colab": {
          "base_uri": "https://localhost:8080/",
          "height": 33
        },
        "outputId": "814c0d44-8144-4025-d279-81f6b6090c21"
      },
      "source": [
        "acc = accuracy_score(test_y_prepared,y_pred)\n",
        "print(acc)"
      ],
      "execution_count": null,
      "outputs": [
        {
          "output_type": "stream",
          "text": [
            "0.6611413122474491\n"
          ],
          "name": "stdout"
        }
      ]
    },
    {
      "cell_type": "markdown",
      "metadata": {
        "id": "va_4UoyyWAx_",
        "colab_type": "text"
      },
      "source": [
        "### Stacking"
      ]
    },
    {
      "cell_type": "code",
      "metadata": {
        "id": "guxO92jRj6w0",
        "colab_type": "code",
        "colab": {}
      },
      "source": [
        "from sklearn.linear_model import LogisticRegression\n",
        "from sklearn.tree import DecisionTreeClassifier\n",
        "from sklearn.ensemble import AdaBoostClassifier\n",
        "import xgboost as xgb\n",
        "from sklearn.ensemble import StackingClassifier"
      ],
      "execution_count": null,
      "outputs": []
    },
    {
      "cell_type": "code",
      "metadata": {
        "id": "73iq7DsBWEvj",
        "colab_type": "code",
        "colab": {}
      },
      "source": [
        "level0 = list()\n",
        "level0.append(('lr', LogisticRegression()))\n",
        "level0.append(('cart', DecisionTreeClassifier(max_depth = 10)))\n",
        "level0.append(('aboost', AdaBoostClassifier(n_estimators=50, learning_rate=1)))\n",
        "level1 = xgb.XGBClassifier(objective='multi:softmax', random_state = 42)\n",
        "\n",
        "stack = StackingClassifier(estimators=level0, final_estimator=level1, cv=5)\n"
      ],
      "execution_count": null,
      "outputs": []
    },
    {
      "cell_type": "code",
      "metadata": {
        "id": "8wLhiYJns7QC",
        "colab_type": "code",
        "colab": {
          "base_uri": "https://localhost:8080/",
          "height": 1000
        },
        "outputId": "76ae17e6-227c-4400-ee2a-5546e19d420e"
      },
      "source": [
        "stack.fit(X_train_prepared, train_y_prepared)"
      ],
      "execution_count": null,
      "outputs": [
        {
          "output_type": "stream",
          "text": [
            "/usr/local/lib/python3.6/dist-packages/sklearn/linear_model/_logistic.py:940: ConvergenceWarning: lbfgs failed to converge (status=1):\n",
            "STOP: TOTAL NO. of ITERATIONS REACHED LIMIT.\n",
            "\n",
            "Increase the number of iterations (max_iter) or scale the data as shown in:\n",
            "    https://scikit-learn.org/stable/modules/preprocessing.html\n",
            "Please also refer to the documentation for alternative solver options:\n",
            "    https://scikit-learn.org/stable/modules/linear_model.html#logistic-regression\n",
            "  extra_warning_msg=_LOGISTIC_SOLVER_CONVERGENCE_MSG)\n",
            "/usr/local/lib/python3.6/dist-packages/sklearn/linear_model/_logistic.py:940: ConvergenceWarning: lbfgs failed to converge (status=1):\n",
            "STOP: TOTAL NO. of ITERATIONS REACHED LIMIT.\n",
            "\n",
            "Increase the number of iterations (max_iter) or scale the data as shown in:\n",
            "    https://scikit-learn.org/stable/modules/preprocessing.html\n",
            "Please also refer to the documentation for alternative solver options:\n",
            "    https://scikit-learn.org/stable/modules/linear_model.html#logistic-regression\n",
            "  extra_warning_msg=_LOGISTIC_SOLVER_CONVERGENCE_MSG)\n",
            "/usr/local/lib/python3.6/dist-packages/sklearn/linear_model/_logistic.py:940: ConvergenceWarning: lbfgs failed to converge (status=1):\n",
            "STOP: TOTAL NO. of ITERATIONS REACHED LIMIT.\n",
            "\n",
            "Increase the number of iterations (max_iter) or scale the data as shown in:\n",
            "    https://scikit-learn.org/stable/modules/preprocessing.html\n",
            "Please also refer to the documentation for alternative solver options:\n",
            "    https://scikit-learn.org/stable/modules/linear_model.html#logistic-regression\n",
            "  extra_warning_msg=_LOGISTIC_SOLVER_CONVERGENCE_MSG)\n",
            "/usr/local/lib/python3.6/dist-packages/sklearn/linear_model/_logistic.py:940: ConvergenceWarning: lbfgs failed to converge (status=1):\n",
            "STOP: TOTAL NO. of ITERATIONS REACHED LIMIT.\n",
            "\n",
            "Increase the number of iterations (max_iter) or scale the data as shown in:\n",
            "    https://scikit-learn.org/stable/modules/preprocessing.html\n",
            "Please also refer to the documentation for alternative solver options:\n",
            "    https://scikit-learn.org/stable/modules/linear_model.html#logistic-regression\n",
            "  extra_warning_msg=_LOGISTIC_SOLVER_CONVERGENCE_MSG)\n",
            "/usr/local/lib/python3.6/dist-packages/sklearn/linear_model/_logistic.py:940: ConvergenceWarning: lbfgs failed to converge (status=1):\n",
            "STOP: TOTAL NO. of ITERATIONS REACHED LIMIT.\n",
            "\n",
            "Increase the number of iterations (max_iter) or scale the data as shown in:\n",
            "    https://scikit-learn.org/stable/modules/preprocessing.html\n",
            "Please also refer to the documentation for alternative solver options:\n",
            "    https://scikit-learn.org/stable/modules/linear_model.html#logistic-regression\n",
            "  extra_warning_msg=_LOGISTIC_SOLVER_CONVERGENCE_MSG)\n",
            "/usr/local/lib/python3.6/dist-packages/sklearn/linear_model/_logistic.py:940: ConvergenceWarning: lbfgs failed to converge (status=1):\n",
            "STOP: TOTAL NO. of ITERATIONS REACHED LIMIT.\n",
            "\n",
            "Increase the number of iterations (max_iter) or scale the data as shown in:\n",
            "    https://scikit-learn.org/stable/modules/preprocessing.html\n",
            "Please also refer to the documentation for alternative solver options:\n",
            "    https://scikit-learn.org/stable/modules/linear_model.html#logistic-regression\n",
            "  extra_warning_msg=_LOGISTIC_SOLVER_CONVERGENCE_MSG)\n"
          ],
          "name": "stderr"
        },
        {
          "output_type": "execute_result",
          "data": {
            "text/plain": [
              "StackingClassifier(cv=5,\n",
              "                   estimators=[('lr',\n",
              "                                LogisticRegression(C=1.0, class_weight=None,\n",
              "                                                   dual=False,\n",
              "                                                   fit_intercept=True,\n",
              "                                                   intercept_scaling=1,\n",
              "                                                   l1_ratio=None, max_iter=100,\n",
              "                                                   multi_class='auto',\n",
              "                                                   n_jobs=None, penalty='l2',\n",
              "                                                   random_state=None,\n",
              "                                                   solver='lbfgs', tol=0.0001,\n",
              "                                                   verbose=0,\n",
              "                                                   warm_start=False)),\n",
              "                               ('cart',\n",
              "                                DecisionTreeClassifier(ccp_alpha=0.0,\n",
              "                                                       class_weight=None,\n",
              "                                                       criterio...\n",
              "                                                 colsample_bynode=1,\n",
              "                                                 colsample_bytree=1, gamma=0,\n",
              "                                                 learning_rate=0.1,\n",
              "                                                 max_delta_step=0, max_depth=3,\n",
              "                                                 min_child_weight=1,\n",
              "                                                 missing=None, n_estimators=100,\n",
              "                                                 n_jobs=1, nthread=None,\n",
              "                                                 objective='multi:softmax',\n",
              "                                                 random_state=42, reg_alpha=0,\n",
              "                                                 reg_lambda=1,\n",
              "                                                 scale_pos_weight=1, seed=None,\n",
              "                                                 silent=None, subsample=1,\n",
              "                                                 verbosity=1),\n",
              "                   n_jobs=None, passthrough=False, stack_method='auto',\n",
              "                   verbose=0)"
            ]
          },
          "metadata": {
            "tags": []
          },
          "execution_count": 50
        }
      ]
    },
    {
      "cell_type": "code",
      "metadata": {
        "id": "Z1u93d8Yx6mT",
        "colab_type": "code",
        "colab": {}
      },
      "source": [
        "pred = stack.predict(X_test_prepared)"
      ],
      "execution_count": null,
      "outputs": []
    },
    {
      "cell_type": "code",
      "metadata": {
        "id": "ShXoAuXRyRBt",
        "colab_type": "code",
        "colab": {
          "base_uri": "https://localhost:8080/",
          "height": 33
        },
        "outputId": "186b21bc-d3a9-43db-b5fc-c2bdf1e02ad0"
      },
      "source": [
        "acc = accuracy_score(test_y_prepared,pred)\n",
        "print(acc)"
      ],
      "execution_count": null,
      "outputs": [
        {
          "output_type": "stream",
          "text": [
            "0.6617692374778337\n"
          ],
          "name": "stdout"
        }
      ]
    }
  ]
}